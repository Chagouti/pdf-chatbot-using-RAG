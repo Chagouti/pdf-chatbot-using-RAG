{
  "cells": [
    {
      "cell_type": "markdown",
      "id": "7242cfe8-fa00-443b-b7dd-0dec6d8ba2c1",
      "metadata": {
        "language": "python",
        "id": "7242cfe8-fa00-443b-b7dd-0dec6d8ba2c1"
      },
      "source": [
        "# Pdf Chatbot Using CrewAI and LlamaIndex"
      ]
    },
    {
      "cell_type": "markdown",
      "id": "3d697c05-911c-4cdd-ae8a-d456b5330dc3",
      "metadata": {
        "language": "python",
        "id": "3d697c05-911c-4cdd-ae8a-d456b5330dc3"
      },
      "source": [
        "### Install required dependencies"
      ]
    },
    {
      "cell_type": "code",
      "execution_count": 1,
      "id": "269f0335-b871-488d-beea-f607d844775b",
      "metadata": {
        "execution": {
          "iopub.execute_input": "2024-07-13T15:06:44.991477Z",
          "iopub.status.busy": "2024-07-13T15:06:44.990961Z",
          "iopub.status.idle": "2024-07-13T15:07:09.946435Z",
          "shell.execute_reply": "2024-07-13T15:07:09.945887Z",
          "shell.execute_reply.started": "2024-07-13T15:06:44.991460Z"
        },
        "language": "python",
        "trusted": true,
        "colab": {
          "base_uri": "https://localhost:8080/"
        },
        "id": "269f0335-b871-488d-beea-f607d844775b",
        "outputId": "863ee78c-9f7f-486c-a9a4-e98f12f6e4ee"
      },
      "outputs": [
        {
          "output_type": "stream",
          "name": "stdout",
          "text": [
            "\u001b[2K   \u001b[90m━━━━━━━━━━━━━━━━━━━━━━━━━━━━━━━━━━━━━━━━\u001b[0m \u001b[32m15.5/15.5 MB\u001b[0m \u001b[31m37.6 MB/s\u001b[0m eta \u001b[36m0:00:00\u001b[0m\n",
            "\u001b[2K   \u001b[90m━━━━━━━━━━━━━━━━━━━━━━━━━━━━━━━━━━━━━━━━\u001b[0m \u001b[32m2.0/2.0 MB\u001b[0m \u001b[31m36.2 MB/s\u001b[0m eta \u001b[36m0:00:00\u001b[0m\n",
            "\u001b[2K   \u001b[90m━━━━━━━━━━━━━━━━━━━━━━━━━━━━━━━━━━━━━━━━\u001b[0m \u001b[32m154.8/154.8 kB\u001b[0m \u001b[31m7.0 MB/s\u001b[0m eta \u001b[36m0:00:00\u001b[0m\n",
            "\u001b[2K   \u001b[90m━━━━━━━━━━━━━━━━━━━━━━━━━━━━━━━━━━━━━━━━\u001b[0m \u001b[32m75.6/75.6 kB\u001b[0m \u001b[31m3.2 MB/s\u001b[0m eta \u001b[36m0:00:00\u001b[0m\n",
            "\u001b[2K   \u001b[90m━━━━━━━━━━━━━━━━━━━━━━━━━━━━━━━━━━━━━━━━\u001b[0m \u001b[32m77.9/77.9 kB\u001b[0m \u001b[31m3.4 MB/s\u001b[0m eta \u001b[36m0:00:00\u001b[0m\n",
            "\u001b[2K   \u001b[90m━━━━━━━━━━━━━━━━━━━━━━━━━━━━━━━━━━━━━━━━\u001b[0m \u001b[32m337.0/337.0 kB\u001b[0m \u001b[31m13.1 MB/s\u001b[0m eta \u001b[36m0:00:00\u001b[0m\n",
            "\u001b[2K   \u001b[90m━━━━━━━━━━━━━━━━━━━━━━━━━━━━━━━━━━━━━━━━\u001b[0m \u001b[32m295.8/295.8 kB\u001b[0m \u001b[31m14.7 MB/s\u001b[0m eta \u001b[36m0:00:00\u001b[0m\n",
            "\u001b[2K   \u001b[90m━━━━━━━━━━━━━━━━━━━━━━━━━━━━━━━━━━━━━━━━\u001b[0m \u001b[32m1.1/1.1 MB\u001b[0m \u001b[31m26.0 MB/s\u001b[0m eta \u001b[36m0:00:00\u001b[0m\n",
            "\u001b[2K   \u001b[90m━━━━━━━━━━━━━━━━━━━━━━━━━━━━━━━━━━━━━━━━\u001b[0m \u001b[32m49.2/49.2 kB\u001b[0m \u001b[31m1.5 MB/s\u001b[0m eta \u001b[36m0:00:00\u001b[0m\n",
            "\u001b[2K   \u001b[90m━━━━━━━━━━━━━━━━━━━━━━━━━━━━━━━━━━━━━━━━\u001b[0m \u001b[32m58.3/58.3 kB\u001b[0m \u001b[31m2.2 MB/s\u001b[0m eta \u001b[36m0:00:00\u001b[0m\n",
            "\u001b[2K   \u001b[90m━━━━━━━━━━━━━━━━━━━━━━━━━━━━━━━━━━━━━━━━\u001b[0m \u001b[32m227.1/227.1 kB\u001b[0m \u001b[31m1.5 MB/s\u001b[0m eta \u001b[36m0:00:00\u001b[0m\n",
            "\u001b[2K   \u001b[90m━━━━━━━━━━━━━━━━━━━━━━━━━━━━━━━━━━━━━━━━\u001b[0m \u001b[32m853.2/853.2 kB\u001b[0m \u001b[31m8.6 MB/s\u001b[0m eta \u001b[36m0:00:00\u001b[0m\n",
            "\u001b[2K   \u001b[90m━━━━━━━━━━━━━━━━━━━━━━━━━━━━━━━━━━━━━━━━\u001b[0m \u001b[32m21.3/21.3 MB\u001b[0m \u001b[31m19.6 MB/s\u001b[0m eta \u001b[36m0:00:00\u001b[0m\n",
            "\u001b[2K     \u001b[90m━━━━━━━━━━━━━━━━━━━━━━━━━━━━━━━━━━━━━━━━\u001b[0m \u001b[32m40.9/40.9 kB\u001b[0m \u001b[31m1.4 MB/s\u001b[0m eta \u001b[36m0:00:00\u001b[0m\n",
            "\u001b[?25h  Preparing metadata (setup.py) ... \u001b[?25l\u001b[?25hdone\n",
            "\u001b[2K     \u001b[90m━━━━━━━━━━━━━━━━━━━━━━━━━━━━━━━━━━━━━━━━\u001b[0m \u001b[32m67.3/67.3 kB\u001b[0m \u001b[31m2.4 MB/s\u001b[0m eta \u001b[36m0:00:00\u001b[0m\n",
            "\u001b[?25h  Installing build dependencies ... \u001b[?25l\u001b[?25hdone\n",
            "  Getting requirements to build wheel ... \u001b[?25l\u001b[?25hdone\n",
            "  Preparing metadata (pyproject.toml) ... \u001b[?25l\u001b[?25hdone\n",
            "\u001b[2K     \u001b[90m━━━━━━━━━━━━━━━━━━━━━━━━━━━━━━━━━━━━━━━━\u001b[0m \u001b[32m50.4/50.4 kB\u001b[0m \u001b[31m2.1 MB/s\u001b[0m eta \u001b[36m0:00:00\u001b[0m\n",
            "\u001b[2K   \u001b[90m━━━━━━━━━━━━━━━━━━━━━━━━━━━━━━━━━━━━━━━━\u001b[0m \u001b[32m50.2/50.2 kB\u001b[0m \u001b[31m1.4 MB/s\u001b[0m eta \u001b[36m0:00:00\u001b[0m\n",
            "\u001b[2K   \u001b[90m━━━━━━━━━━━━━━━━━━━━━━━━━━━━━━━━━━━━━━━━\u001b[0m \u001b[32m84.2/84.2 kB\u001b[0m \u001b[31m1.9 MB/s\u001b[0m eta \u001b[36m0:00:00\u001b[0m\n",
            "\u001b[2K   \u001b[90m━━━━━━━━━━━━━━━━━━━━━━━━━━━━━━━━━━━━━━━━\u001b[0m \u001b[32m209.3/209.3 kB\u001b[0m \u001b[31m2.1 MB/s\u001b[0m eta \u001b[36m0:00:00\u001b[0m\n",
            "\u001b[2K   \u001b[90m━━━━━━━━━━━━━━━━━━━━━━━━━━━━━━━━━━━━━━━━\u001b[0m \u001b[32m990.3/990.3 kB\u001b[0m \u001b[31m2.5 MB/s\u001b[0m eta \u001b[36m0:00:00\u001b[0m\n",
            "\u001b[2K   \u001b[90m━━━━━━━━━━━━━━━━━━━━━━━━━━━━━━━━━━━━━━━━\u001b[0m \u001b[32m61.5/61.5 kB\u001b[0m \u001b[31m1.8 MB/s\u001b[0m eta \u001b[36m0:00:00\u001b[0m\n",
            "\u001b[2K   \u001b[90m━━━━━━━━━━━━━━━━━━━━━━━━━━━━━━━━━━━━━━━━\u001b[0m \u001b[32m52.5/52.5 kB\u001b[0m \u001b[31m1.7 MB/s\u001b[0m eta \u001b[36m0:00:00\u001b[0m\n",
            "\u001b[2K   \u001b[90m━━━━━━━━━━━━━━━━━━━━━━━━━━━━━━━━━━━━━━━━\u001b[0m \u001b[32m109.5/109.5 kB\u001b[0m \u001b[31m2.4 MB/s\u001b[0m eta \u001b[36m0:00:00\u001b[0m\n",
            "\u001b[2K   \u001b[90m━━━━━━━━━━━━━━━━━━━━━━━━━━━━━━━━━━━━━━━━\u001b[0m \u001b[32m138.0/138.0 kB\u001b[0m \u001b[31m2.0 MB/s\u001b[0m eta \u001b[36m0:00:00\u001b[0m\n",
            "\u001b[2K   \u001b[90m━━━━━━━━━━━━━━━━━━━━━━━━━━━━━━━━━━━━━━━━\u001b[0m \u001b[32m774.0/774.0 kB\u001b[0m \u001b[31m2.7 MB/s\u001b[0m eta \u001b[36m0:00:00\u001b[0m\n",
            "\u001b[2K   \u001b[90m━━━━━━━━━━━━━━━━━━━━━━━━━━━━━━━━━━━━━━━━\u001b[0m \u001b[32m91.8/91.8 kB\u001b[0m \u001b[31m2.3 MB/s\u001b[0m eta \u001b[36m0:00:00\u001b[0m\n",
            "\u001b[2K   \u001b[90m━━━━━━━━━━━━━━━━━━━━━━━━━━━━━━━━━━━━━━━━\u001b[0m \u001b[32m233.0/233.0 kB\u001b[0m \u001b[31m2.5 MB/s\u001b[0m eta \u001b[36m0:00:00\u001b[0m\n",
            "\u001b[2K   \u001b[90m━━━━━━━━━━━━━━━━━━━━━━━━━━━━━━━━━━━━━━━━\u001b[0m \u001b[32m525.5/525.5 kB\u001b[0m \u001b[31m2.7 MB/s\u001b[0m eta \u001b[36m0:00:00\u001b[0m\n",
            "\u001b[2K   \u001b[90m━━━━━━━━━━━━━━━━━━━━━━━━━━━━━━━━━━━━━━━━\u001b[0m \u001b[32m2.4/2.4 MB\u001b[0m \u001b[31m2.3 MB/s\u001b[0m eta \u001b[36m0:00:00\u001b[0m\n",
            "\u001b[2K   \u001b[90m━━━━━━━━━━━━━━━━━━━━━━━━━━━━━━━━━━━━━━━━\u001b[0m \u001b[32m177.4/177.4 kB\u001b[0m \u001b[31m1.1 MB/s\u001b[0m eta \u001b[36m0:00:00\u001b[0m\n",
            "\u001b[2K   \u001b[90m━━━━━━━━━━━━━━━━━━━━━━━━━━━━━━━━━━━━━━━━\u001b[0m \u001b[32m147.8/147.8 kB\u001b[0m \u001b[31m1.1 MB/s\u001b[0m eta \u001b[36m0:00:00\u001b[0m\n",
            "\u001b[2K   \u001b[90m━━━━━━━━━━━━━━━━━━━━━━━━━━━━━━━━━━━━━━━━\u001b[0m \u001b[32m131.5/131.5 kB\u001b[0m \u001b[31m1.1 MB/s\u001b[0m eta \u001b[36m0:00:00\u001b[0m\n",
            "\u001b[2K   \u001b[90m━━━━━━━━━━━━━━━━━━━━━━━━━━━━━━━━━━━━━━━━\u001b[0m \u001b[32m327.6/327.6 kB\u001b[0m \u001b[31m1.2 MB/s\u001b[0m eta \u001b[36m0:00:00\u001b[0m\n",
            "\u001b[2K   \u001b[90m━━━━━━━━━━━━━━━━━━━━━━━━━━━━━━━━━━━━━━━━\u001b[0m \u001b[32m115.1/115.1 kB\u001b[0m \u001b[31m966.6 kB/s\u001b[0m eta \u001b[36m0:00:00\u001b[0m\n",
            "\u001b[2K   \u001b[90m━━━━━━━━━━━━━━━━━━━━━━━━━━━━━━━━━━━━━━━━\u001b[0m \u001b[32m21.6/21.6 MB\u001b[0m \u001b[31m2.8 MB/s\u001b[0m eta \u001b[36m0:00:00\u001b[0m\n",
            "\u001b[2K   \u001b[90m━━━━━━━━━━━━━━━━━━━━━━━━━━━━━━━━━━━━━━━━\u001b[0m \u001b[32m2.3/2.3 MB\u001b[0m \u001b[31m3.7 MB/s\u001b[0m eta \u001b[36m0:00:00\u001b[0m\n",
            "\u001b[2K   \u001b[90m━━━━━━━━━━━━━━━━━━━━━━━━━━━━━━━━━━━━━━━━\u001b[0m \u001b[32m377.3/377.3 kB\u001b[0m \u001b[31m3.4 MB/s\u001b[0m eta \u001b[36m0:00:00\u001b[0m\n",
            "\u001b[2K   \u001b[90m━━━━━━━━━━━━━━━━━━━━━━━━━━━━━━━━━━━━━━━━\u001b[0m \u001b[32m47.1/47.1 kB\u001b[0m \u001b[31m1.9 MB/s\u001b[0m eta \u001b[36m0:00:00\u001b[0m\n",
            "\u001b[2K   \u001b[90m━━━━━━━━━━━━━━━━━━━━━━━━━━━━━━━━━━━━━━━━\u001b[0m \u001b[32m139.8/139.8 kB\u001b[0m \u001b[31m3.2 MB/s\u001b[0m eta \u001b[36m0:00:00\u001b[0m\n",
            "\u001b[2K   \u001b[90m━━━━━━━━━━━━━━━━━━━━━━━━━━━━━━━━━━━━━━━━\u001b[0m \u001b[32m41.3/41.3 kB\u001b[0m \u001b[31m1.9 MB/s\u001b[0m eta \u001b[36m0:00:00\u001b[0m\n",
            "\u001b[2K   \u001b[90m━━━━━━━━━━━━━━━━━━━━━━━━━━━━━━━━━━━━━━━━\u001b[0m \u001b[32m71.1/71.1 kB\u001b[0m \u001b[31m2.6 MB/s\u001b[0m eta \u001b[36m0:00:00\u001b[0m\n",
            "\u001b[2K   \u001b[90m━━━━━━━━━━━━━━━━━━━━━━━━━━━━━━━━━━━━━━━━\u001b[0m \u001b[32m341.8/341.8 kB\u001b[0m \u001b[31m3.3 MB/s\u001b[0m eta \u001b[36m0:00:00\u001b[0m\n",
            "\u001b[2K   \u001b[90m━━━━━━━━━━━━━━━━━━━━━━━━━━━━━━━━━━━━━━━━\u001b[0m \u001b[32m57.6/57.6 kB\u001b[0m \u001b[31m2.1 MB/s\u001b[0m eta \u001b[36m0:00:00\u001b[0m\n",
            "\u001b[2K   \u001b[90m━━━━━━━━━━━━━━━━━━━━━━━━━━━━━━━━━━━━━━━━\u001b[0m \u001b[32m9.4/9.4 MB\u001b[0m \u001b[31m4.4 MB/s\u001b[0m eta \u001b[36m0:00:00\u001b[0m\n",
            "\u001b[2K   \u001b[90m━━━━━━━━━━━━━━━━━━━━━━━━━━━━━━━━━━━━━━━━\u001b[0m \u001b[32m273.8/273.8 kB\u001b[0m \u001b[31m3.9 MB/s\u001b[0m eta \u001b[36m0:00:00\u001b[0m\n",
            "\u001b[2K   \u001b[90m━━━━━━━━━━━━━━━━━━━━━━━━━━━━━━━━━━━━━━━━\u001b[0m \u001b[32m139.2/139.2 kB\u001b[0m \u001b[31m4.3 MB/s\u001b[0m eta \u001b[36m0:00:00\u001b[0m\n",
            "\u001b[2K   \u001b[90m━━━━━━━━━━━━━━━━━━━━━━━━━━━━━━━━━━━━━━━━\u001b[0m \u001b[32m92.2/92.2 kB\u001b[0m \u001b[31m3.4 MB/s\u001b[0m eta \u001b[36m0:00:00\u001b[0m\n",
            "\u001b[2K   \u001b[90m━━━━━━━━━━━━━━━━━━━━━━━━━━━━━━━━━━━━━━━━\u001b[0m \u001b[32m3.1/3.1 MB\u001b[0m \u001b[31m3.7 MB/s\u001b[0m eta \u001b[36m0:00:00\u001b[0m\n",
            "\u001b[2K   \u001b[90m━━━━━━━━━━━━━━━━━━━━━━━━━━━━━━━━━━━━━━━━\u001b[0m \u001b[32m1.7/1.7 MB\u001b[0m \u001b[31m2.9 MB/s\u001b[0m eta \u001b[36m0:00:00\u001b[0m\n",
            "\u001b[2K   \u001b[90m━━━━━━━━━━━━━━━━━━━━━━━━━━━━━━━━━━━━━━━━\u001b[0m \u001b[32m203.2/203.2 kB\u001b[0m \u001b[31m2.6 MB/s\u001b[0m eta \u001b[36m0:00:00\u001b[0m\n",
            "\u001b[2K   \u001b[90m━━━━━━━━━━━━━━━━━━━━━━━━━━━━━━━━━━━━━━━━\u001b[0m \u001b[32m67.6/67.6 kB\u001b[0m \u001b[31m2.2 MB/s\u001b[0m eta \u001b[36m0:00:00\u001b[0m\n",
            "\u001b[2K   \u001b[90m━━━━━━━━━━━━━━━━━━━━━━━━━━━━━━━━━━━━━━━━\u001b[0m \u001b[32m6.8/6.8 MB\u001b[0m \u001b[31m3.2 MB/s\u001b[0m eta \u001b[36m0:00:00\u001b[0m\n",
            "\u001b[2K   \u001b[90m━━━━━━━━━━━━━━━━━━━━━━━━━━━━━━━━━━━━━━━━\u001b[0m \u001b[32m141.1/141.1 kB\u001b[0m \u001b[31m2.2 MB/s\u001b[0m eta \u001b[36m0:00:00\u001b[0m\n",
            "\u001b[2K   \u001b[90m━━━━━━━━━━━━━━━━━━━━━━━━━━━━━━━━━━━━━━━━\u001b[0m \u001b[32m5.4/5.4 MB\u001b[0m \u001b[31m2.5 MB/s\u001b[0m eta \u001b[36m0:00:00\u001b[0m\n",
            "\u001b[2K   \u001b[90m━━━━━━━━━━━━━━━━━━━━━━━━━━━━━━━━━━━━━━━━\u001b[0m \u001b[32m254.1/254.1 kB\u001b[0m \u001b[31m1.4 MB/s\u001b[0m eta \u001b[36m0:00:00\u001b[0m\n",
            "\u001b[2K   \u001b[90m━━━━━━━━━━━━━━━━━━━━━━━━━━━━━━━━━━━━━━━━\u001b[0m \u001b[32m475.7/475.7 kB\u001b[0m \u001b[31m2.2 MB/s\u001b[0m eta \u001b[36m0:00:00\u001b[0m\n",
            "\u001b[2K   \u001b[90m━━━━━━━━━━━━━━━━━━━━━━━━━━━━━━━━━━━━━━━━\u001b[0m \u001b[32m62.8/62.8 kB\u001b[0m \u001b[31m1.5 MB/s\u001b[0m eta \u001b[36m0:00:00\u001b[0m\n",
            "\u001b[2K   \u001b[90m━━━━━━━━━━━━━━━━━━━━━━━━━━━━━━━━━━━━━━━━\u001b[0m \u001b[32m78.6/78.6 kB\u001b[0m \u001b[31m1.8 MB/s\u001b[0m eta \u001b[36m0:00:00\u001b[0m\n",
            "\u001b[2K   \u001b[90m━━━━━━━━━━━━━━━━━━━━━━━━━━━━━━━━━━━━━━━━\u001b[0m \u001b[32m12.4/12.4 MB\u001b[0m \u001b[31m2.5 MB/s\u001b[0m eta \u001b[36m0:00:00\u001b[0m\n",
            "\u001b[2K   \u001b[90m━━━━━━━━━━━━━━━━━━━━━━━━━━━━━━━━━━━━━━━━\u001b[0m \u001b[32m2.8/2.8 MB\u001b[0m \u001b[31m3.0 MB/s\u001b[0m eta \u001b[36m0:00:00\u001b[0m\n",
            "\u001b[2K   \u001b[90m━━━━━━━━━━━━━━━━━━━━━━━━━━━━━━━━━━━━━━━━\u001b[0m \u001b[32m294.6/294.6 kB\u001b[0m \u001b[31m2.8 MB/s\u001b[0m eta \u001b[36m0:00:00\u001b[0m\n",
            "\u001b[2K   \u001b[90m━━━━━━━━━━━━━━━━━━━━━━━━━━━━━━━━━━━━━━━━\u001b[0m \u001b[32m341.4/341.4 kB\u001b[0m \u001b[31m2.9 MB/s\u001b[0m eta \u001b[36m0:00:00\u001b[0m\n",
            "\u001b[2K   \u001b[90m━━━━━━━━━━━━━━━━━━━━━━━━━━━━━━━━━━━━━━━━\u001b[0m \u001b[32m98.7/98.7 kB\u001b[0m \u001b[31m2.7 MB/s\u001b[0m eta \u001b[36m0:00:00\u001b[0m\n",
            "\u001b[2K   \u001b[90m━━━━━━━━━━━━━━━━━━━━━━━━━━━━━━━━━━━━━━━━\u001b[0m \u001b[32m82.7/82.7 kB\u001b[0m \u001b[31m2.8 MB/s\u001b[0m eta \u001b[36m0:00:00\u001b[0m\n",
            "\u001b[2K   \u001b[90m━━━━━━━━━━━━━━━━━━━━━━━━━━━━━━━━━━━━━━━━\u001b[0m \u001b[32m71.9/71.9 kB\u001b[0m \u001b[31m2.3 MB/s\u001b[0m eta \u001b[36m0:00:00\u001b[0m\n",
            "\u001b[2K   \u001b[90m━━━━━━━━━━━━━━━━━━━━━━━━━━━━━━━━━━━━━━━━\u001b[0m \u001b[32m3.4/3.4 MB\u001b[0m \u001b[31m3.5 MB/s\u001b[0m eta \u001b[36m0:00:00\u001b[0m\n",
            "\u001b[2K   \u001b[90m━━━━━━━━━━━━━━━━━━━━━━━━━━━━━━━━━━━━━━━━\u001b[0m \u001b[32m1.2/1.2 MB\u001b[0m \u001b[31m3.7 MB/s\u001b[0m eta \u001b[36m0:00:00\u001b[0m\n",
            "\u001b[2K   \u001b[90m━━━━━━━━━━━━━━━━━━━━━━━━━━━━━━━━━━━━━━━━\u001b[0m \u001b[32m130.2/130.2 kB\u001b[0m \u001b[31m3.1 MB/s\u001b[0m eta \u001b[36m0:00:00\u001b[0m\n",
            "\u001b[2K   \u001b[90m━━━━━━━━━━━━━━━━━━━━━━━━━━━━━━━━━━━━━━━━\u001b[0m \u001b[32m46.0/46.0 kB\u001b[0m \u001b[31m2.0 MB/s\u001b[0m eta \u001b[36m0:00:00\u001b[0m\n",
            "\u001b[2K   \u001b[90m━━━━━━━━━━━━━━━━━━━━━━━━━━━━━━━━━━━━━━━━\u001b[0m \u001b[32m307.7/307.7 kB\u001b[0m \u001b[31m3.3 MB/s\u001b[0m eta \u001b[36m0:00:00\u001b[0m\n",
            "\u001b[2K   \u001b[90m━━━━━━━━━━━━━━━━━━━━━━━━━━━━━━━━━━━━━━━━\u001b[0m \u001b[32m57.5/57.5 kB\u001b[0m \u001b[31m2.2 MB/s\u001b[0m eta \u001b[36m0:00:00\u001b[0m\n",
            "\u001b[2K   \u001b[90m━━━━━━━━━━━━━━━━━━━━━━━━━━━━━━━━━━━━━━━━\u001b[0m \u001b[32m86.8/86.8 kB\u001b[0m \u001b[31m2.8 MB/s\u001b[0m eta \u001b[36m0:00:00\u001b[0m\n",
            "\u001b[?25h  Building wheel for docx2txt (setup.py) ... \u001b[?25l\u001b[?25hdone\n",
            "  Building wheel for pypika (pyproject.toml) ... \u001b[?25l\u001b[?25hdone\n",
            "\u001b[31mERROR: pip's dependency resolver does not currently take into account all the packages that are installed. This behaviour is the source of the following dependency conflicts.\n",
            "tensorflow-metadata 1.15.0 requires protobuf<4.21,>=3.20.3; python_version < \"3.11\", but you have protobuf 4.25.4 which is incompatible.\u001b[0m\u001b[31m\n",
            "\u001b[0m"
          ]
        }
      ],
      "source": [
        "!pip install llama-index --quiet\n",
        "!pip install llama-index-llms-groq --quiet\n",
        "!pip install llama-index-core --quiet\n",
        "!pip install llama-index-readers-file --quiet\n",
        "!pip install llama-index-tools-wolfram-alpha --quiet\n",
        "!pip install llama-index-embeddings-huggingface --quiet\n",
        "!pip install 'crewai[tools]' --quiet"
      ]
    },
    {
      "cell_type": "markdown",
      "id": "8dae23be-ea75-4a9a-b3b2-3e7478a49f09",
      "metadata": {
        "language": "python",
        "id": "8dae23be-ea75-4a9a-b3b2-3e7478a49f09"
      },
      "source": [
        "### Let's setup the LLM with Groq. Sign up at Groq, it is free. Go to Groq console and get the API keys."
      ]
    },
    {
      "cell_type": "code",
      "execution_count": 2,
      "id": "1f584e0c-a1fc-4701-9e37-9f9ed608756f",
      "metadata": {
        "execution": {
          "iopub.execute_input": "2024-07-13T15:08:17.493213Z",
          "iopub.status.busy": "2024-07-13T15:08:17.492866Z",
          "iopub.status.idle": "2024-07-13T15:08:20.127034Z",
          "shell.execute_reply": "2024-07-13T15:08:20.126597Z",
          "shell.execute_reply.started": "2024-07-13T15:08:17.493188Z"
        },
        "language": "python",
        "trusted": true,
        "id": "1f584e0c-a1fc-4701-9e37-9f9ed608756f"
      },
      "outputs": [],
      "source": [
        "from llama_index.llms.groq import Groq"
      ]
    },
    {
      "cell_type": "code",
      "execution_count": 3,
      "id": "b7fde01e-8cf9-4ee3-a803-9e37b25d5c74",
      "metadata": {
        "execution": {
          "iopub.execute_input": "2024-07-13T15:08:28.311822Z",
          "iopub.status.busy": "2024-07-13T15:08:28.311315Z",
          "iopub.status.idle": "2024-07-13T15:08:28.314465Z",
          "shell.execute_reply": "2024-07-13T15:08:28.313936Z",
          "shell.execute_reply.started": "2024-07-13T15:08:28.311804Z"
        },
        "language": "python",
        "trusted": true,
        "id": "b7fde01e-8cf9-4ee3-a803-9e37b25d5c74"
      },
      "outputs": [],
      "source": [
        "llm = Groq(model=\"llama3-70b-8192\", api_key=\"your Groq api key\")"
      ]
    },
    {
      "cell_type": "code",
      "execution_count": 4,
      "id": "e370bd44-3beb-4eb8-ad20-d935b1ee075e",
      "metadata": {
        "execution": {
          "iopub.execute_input": "2024-07-13T15:09:02.179599Z",
          "iopub.status.busy": "2024-07-13T15:09:02.179067Z",
          "iopub.status.idle": "2024-07-13T15:09:04.655213Z",
          "shell.execute_reply": "2024-07-13T15:09:04.654769Z",
          "shell.execute_reply.started": "2024-07-13T15:09:02.179585Z"
        },
        "language": "python",
        "trusted": true,
        "colab": {
          "base_uri": "https://localhost:8080/"
        },
        "id": "e370bd44-3beb-4eb8-ad20-d935b1ee075e",
        "outputId": "546ec738-37cc-4214-9049-79af0f29b5a4"
      },
      "outputs": [
        {
          "output_type": "stream",
          "name": "stdout",
          "text": [
            "Large Language Models (LLMs) have revolutionized the field of Natural Language Processing (NLP) and have numerous applications across various industries. The importance of LLMs can be summarized as follows:\n",
            "\n",
            "1. **Improved Language Understanding**: LLMs have demonstrated remarkable capabilities in understanding human language, including nuances, context, and subtleties. This enables them to generate more accurate and informative responses, making them valuable for applications like chatbots, virtual assistants, and language translation.\n",
            "2. **Enhanced Text Generation**: LLMs can generate high-quality, coherent, and context-specific text, which has numerous applications in content creation, writing assistance, and automated reporting.\n",
            "3. **Advancements in AI Research**: LLMs have pushed the boundaries of AI research, enabling the development of more sophisticated models and techniques. They have also sparked new areas of research, such as multimodal language processing and explainability.\n",
            "4. **Improved Customer Experience**: LLMs can be used to create more personalized and engaging customer experiences, such as chatbots that can understand and respond to customer queries more effectively.\n",
            "5. **Increased Efficiency**: LLMs can automate many tasks, such as data entry, content generation, and language translation, freeing up human resources for more strategic and creative work.\n",
            "6. **Enhanced Decision-Making**: LLMs can analyze large amounts of text data, providing insights and patterns that can inform business decisions, improve risk assessment, and enhance predictive modeling.\n",
            "7. **Accessibility and Inclusion**: LLMs can help bridge language barriers, making information and services more accessible to people with disabilities, language limitations, or those in underserved communities.\n",
            "8. **Cybersecurity**: LLMs can be used to detect and prevent cyber threats, such as phishing attacks, by analyzing and understanding the language patterns used by attackers.\n",
            "9. **Healthcare and Biomedical Applications**: LLMs can be used to analyze medical literature, identify patterns in patient data, and develop personalized treatment plans, leading to improved healthcare outcomes.\n",
            "10. **Scientific Discovery**: LLMs can aid in the analysis of large scientific datasets, accelerating discovery in fields like biology, chemistry, and physics.\n",
            "11. **Education and Learning**: LLMs can create personalized learning experiences, provide real-time feedback, and help students with language-based learning disabilities.\n",
            "12. **Environmental Monitoring**: LLMs can analyze large amounts of text data from environmental sensors, social media, and news articles to monitor and respond to environmental changes and disasters.\n",
            "13. **Social Media Analysis**: LLMs can analyze social media data to understand public opinion, sentiment, and trends, enabling businesses and organizations to make informed decisions.\n",
            "14. **Content Creation and Generation**: LLMs can generate high-quality content, such as articles, blog posts, and social media updates, freeing up human resources for more creative and strategic work.\n",
            "15. **Job Creation and Economic Growth**: The development and deployment of LLMs can create new job opportunities in areas like AI research, development, and deployment, contributing to economic growth.\n",
            "\n",
            "In summary, LLMs have the potential to transform numerous industries and aspects of our lives, from improving customer experiences to advancing scientific discovery. Their importance lies in their ability to understand and generate human language, enabling them to automate tasks, provide insights, and drive innovation.\n"
          ]
        }
      ],
      "source": [
        "response = llm.complete(\"Explain the importance of LLMs\")\n",
        "print(response)"
      ]
    },
    {
      "cell_type": "markdown",
      "id": "6a5ae4f5-2c14-4205-8afc-f244c94834da",
      "metadata": {
        "language": "python",
        "id": "6a5ae4f5-2c14-4205-8afc-f244c94834da"
      },
      "source": [
        "### Crew AI requires a chat based model for binding"
      ]
    },
    {
      "cell_type": "code",
      "execution_count": 5,
      "id": "cef42da2-13be-425f-a8b9-11b0f5adf79a",
      "metadata": {
        "execution": {
          "iopub.execute_input": "2024-07-13T15:10:08.555937Z",
          "iopub.status.busy": "2024-07-13T15:10:08.555542Z",
          "iopub.status.idle": "2024-07-13T15:10:08.793464Z",
          "shell.execute_reply": "2024-07-13T15:10:08.793034Z",
          "shell.execute_reply.started": "2024-07-13T15:10:08.555920Z"
        },
        "language": "python",
        "trusted": true,
        "id": "cef42da2-13be-425f-a8b9-11b0f5adf79a"
      },
      "outputs": [],
      "source": [
        "from langchain_openai import ChatOpenAI\n",
        "\n",
        "# Define your API key here\n",
        "groq_api_key = \"your Groq api key\"\n",
        "\n",
        "chat_llm = ChatOpenAI(\n",
        "    openai_api_base=\"https://api.groq.com/openai/v1\",\n",
        "    openai_api_key=groq_api_key,\n",
        "    model=\"llama3-70b-8192\",\n",
        "    temperature=0,\n",
        "    max_tokens=1000,\n",
        ")"
      ]
    },
    {
      "cell_type": "markdown",
      "id": "194bd374-b442-4be6-8553-27af9b422449",
      "metadata": {
        "language": "python",
        "id": "194bd374-b442-4be6-8553-27af9b422449"
      },
      "source": [
        "### Download data"
      ]
    },
    {
      "cell_type": "markdown",
      "id": "31554985-5684-473b-b7c4-8fcccbd5438d",
      "metadata": {
        "language": "python",
        "id": "31554985-5684-473b-b7c4-8fcccbd5438d"
      },
      "source": [
        "### Parse the content of the data"
      ]
    },
    {
      "cell_type": "code",
      "execution_count": 6,
      "id": "ee5510a5-ddab-4dfa-8ce7-de608f968e70",
      "metadata": {
        "execution": {
          "iopub.execute_input": "2024-07-13T15:12:45.424823Z",
          "iopub.status.busy": "2024-07-13T15:12:45.424341Z",
          "iopub.status.idle": "2024-07-13T15:12:45.427201Z",
          "shell.execute_reply": "2024-07-13T15:12:45.426829Z",
          "shell.execute_reply.started": "2024-07-13T15:12:45.424808Z"
        },
        "language": "python",
        "trusted": true,
        "id": "ee5510a5-ddab-4dfa-8ce7-de608f968e70"
      },
      "outputs": [],
      "source": [
        "from llama_index.core import SimpleDirectoryReader, VectorStoreIndex\n",
        "from llama_index.llms.openai import OpenAI\n",
        "import os\n",
        "from langchain_openai import ChatOpenAI"
      ]
    },
    {
      "cell_type": "code",
      "execution_count": 60,
      "id": "2effa602-5e70-4760-97f6-885019163fc0",
      "metadata": {
        "execution": {
          "iopub.execute_input": "2024-07-13T15:13:13.723298Z",
          "iopub.status.busy": "2024-07-13T15:13:13.722903Z",
          "iopub.status.idle": "2024-07-13T15:13:29.019650Z",
          "shell.execute_reply": "2024-07-13T15:13:29.019272Z",
          "shell.execute_reply.started": "2024-07-13T15:13:13.723282Z"
        },
        "language": "python",
        "trusted": true,
        "colab": {
          "base_uri": "https://localhost:8080/"
        },
        "id": "2effa602-5e70-4760-97f6-885019163fc0",
        "outputId": "5e477735-7847-407d-dfec-b25bd5e0072b"
      },
      "outputs": [
        {
          "output_type": "execute_result",
          "data": {
            "text/plain": [
              "Document(id_='d4591696-908f-4521-864b-c80bbe71c5f2', embedding=None, metadata={'page_label': '1', 'file_name': 'Morocco-1-3.pdf', 'file_path': 'Morocco-1-3.pdf', 'file_type': 'application/pdf', 'file_size': 326422, 'creation_date': '2024-07-29', 'last_modified_date': '2024-07-29'}, excluded_embed_metadata_keys=['file_name', 'file_type', 'file_size', 'creation_date', 'last_modified_date', 'last_accessed_date'], excluded_llm_metadata_keys=['file_name', 'file_type', 'file_size', 'creation_date', 'last_modified_date', 'last_accessed_date'], relationships={}, text='Kingdom of Morocco\\nاﻟﻤﻐﺮﺑﻴﺔ  اﻟﻤﻤﻠﻜﺔ  (Arabic)\\nal-Mamlakah al-Maghribiyah\\nⵜ ⴰ ⴳ ⵍ ⴷ ⵉ ⵜ  ⵏ  ⵍ ⵎ ⵖ ⵔ ⵉ ⴱ (Tamazight)\\nTageldit n Lme ɣ rib\\nFlag\\n Coat of arms\\nMotto: \\n\"Allāh, al-Wa ṭ an, al-Malik\"\\n\"God, Country, King\"[1]\\nAnthem: \\n\"an-Našīd al-Wa ṭ anīy\"\\n\"Cherifian Anthem\"\\nCapital Rabat\\n34°02′N 6°51′W\\nLargest city Casablanca\\n33°32′N 7°35′W\\nMorocco\\nMorocco,[d] officially the Kingdom of\\nMorocco,[e] is a country in the Maghreb region of\\nNorth Africa. It overlooks  the Mediterranean Sea\\nto the north and the Atlantic Ocean to the west,\\nand has land borders with Algeria to the east, and\\nthe disputed territory of Western Sahara to the\\nsouth. Morocco also claims the Spanish exclaves\\nof Ceuta, Melilla and Peñón de Vélez de la\\nGomera, and several small Spanish-controlled\\nislands off its coast.[17] It has a popul ation of\\nroughl y 37 million, the official and predominant\\nreligion is Islam, and the official langua ges are\\nArabic and Berber; French and the Moroccan\\ndialect of Arabic are also widely spoke n.\\nMoroccan identity and culture is a mix of Arab,\\nBerber, African and European cultures. Its capital\\nis Rabat, while its largest city is Casablanca.[18]\\nThe region constituting Morocco has been\\ninhabited since the Paleolithic era over 300,000\\nyears ago. The Idrisid dynasty was established by\\nIdris I in 788 and was subsequently ruled by a\\nseries of other independent dyna sties, reaching its\\nzenith as a regional power in the 11th and 12th\\ncenturies, unde r the Almoravid and Almohad\\ndyna sties, when it controlled most of the Iberian\\nPeninsula and the Maghreb.[19] Centuries of Arab\\nmigration to the Maghreb since the 7th century\\nshifted the demographic scope of the region. In the\\n15th and 16th centuries, Morocco faced external\\nthreats to its sovereignty, with Portugal seizing\\nsome territory and the Ottoman Empire\\nencroaching from the east. The Marinid and Saadi\\ndyna sties otherwise resisted foreign domination,\\nand Morocco was the only North African nation to\\nescape Ottoman dominion. The \\'Alawi dyna sty,\\nwhich rules the country to this day, seized power\\nin 1631, and over the next two centuries expanded\\ndiplomatic and commercial relations with the\\nWestern world. Morocco\\'s strategic location near\\nthe mouth of the Mediterranean drew renewedٱ\\x00ْ\\x00َ\\x00ِ  ٱ\\x00ْ\\x00َ\\x00َ\\x00،  ٱ\\x00\\x00\\x00ٰ\\x00،  \\nٱ\\x00ْ\\x00َ\\x00َ\\x00ِ\\x00  ٱ\\x00\\x00\\x00\\x00ِ\\x00ْ\\x00  \\n0:000:00\\n/ 0:00/ 0:00\\nLocation of Morocco in northwest Africa\\nDark green: Undisputed territory of Morocco\\nLighter green: Western Sahara, a territory claimed\\nand occupied mostly by Morocco\\nas its Southern Provinces[a]', mimetype='text/plain', start_char_idx=None, end_char_idx=None, text_template='{metadata_str}\\n\\n{content}', metadata_template='{key}: {value}', metadata_seperator='\\n')"
            ]
          },
          "metadata": {},
          "execution_count": 60
        }
      ],
      "source": [
        "reader = SimpleDirectoryReader(input_files=[\"Morocco-1-3.pdf\"])\n",
        "docs = reader.load_data()\n",
        "docs[0]"
      ]
    },
    {
      "cell_type": "markdown",
      "id": "22b6af2e-989b-48bd-8862-c24366b2a7fc",
      "metadata": {
        "language": "python",
        "id": "22b6af2e-989b-48bd-8862-c24366b2a7fc"
      },
      "source": [
        "### Setup the embedding model"
      ]
    },
    {
      "cell_type": "code",
      "execution_count": 61,
      "id": "078d97e0-4f92-44ec-af5f-c4b4795bfa64",
      "metadata": {
        "execution": {
          "iopub.execute_input": "2024-07-13T15:13:46.364111Z",
          "iopub.status.busy": "2024-07-13T15:13:46.363694Z",
          "iopub.status.idle": "2024-07-13T15:13:46.871065Z",
          "shell.execute_reply": "2024-07-13T15:13:46.870645Z",
          "shell.execute_reply.started": "2024-07-13T15:13:46.364096Z"
        },
        "language": "python",
        "trusted": true,
        "id": "078d97e0-4f92-44ec-af5f-c4b4795bfa64"
      },
      "outputs": [],
      "source": [
        "from llama_index.embeddings.huggingface import HuggingFaceEmbedding"
      ]
    },
    {
      "cell_type": "code",
      "execution_count": 12,
      "id": "bd6731f6-f58b-44a2-8b8a-bcb65aa58915",
      "metadata": {
        "execution": {
          "iopub.execute_input": "2024-07-13T15:13:56.746082Z",
          "iopub.status.busy": "2024-07-13T15:13:56.745453Z",
          "iopub.status.idle": "2024-07-13T15:13:57.129961Z",
          "shell.execute_reply": "2024-07-13T15:13:57.129550Z",
          "shell.execute_reply.started": "2024-07-13T15:13:56.746063Z"
        },
        "language": "python",
        "trusted": true,
        "id": "bd6731f6-f58b-44a2-8b8a-bcb65aa58915"
      },
      "outputs": [],
      "source": [
        "embed_model = HuggingFaceEmbedding(model_name=\"BAAI/bge-small-en-v1.5\")"
      ]
    },
    {
      "cell_type": "markdown",
      "id": "ea54122a-c910-48ad-8ae9-a36947c7846e",
      "metadata": {
        "language": "python",
        "id": "ea54122a-c910-48ad-8ae9-a36947c7846e"
      },
      "source": [
        "### Build Index"
      ]
    },
    {
      "cell_type": "code",
      "execution_count": 62,
      "id": "c523e4d8-9591-46d6-9c30-280082af53e0",
      "metadata": {
        "execution": {
          "iopub.execute_input": "2024-07-13T15:14:09.330586Z",
          "iopub.status.busy": "2024-07-13T15:14:09.330188Z",
          "iopub.status.idle": "2024-07-13T15:16:12.819804Z",
          "shell.execute_reply": "2024-07-13T15:16:12.819343Z",
          "shell.execute_reply.started": "2024-07-13T15:14:09.330570Z"
        },
        "language": "python",
        "trusted": true,
        "id": "c523e4d8-9591-46d6-9c30-280082af53e0"
      },
      "outputs": [],
      "source": [
        "index = VectorStoreIndex.from_documents(docs,\n",
        "                                        embed_model=embed_model,\n",
        "                                        )"
      ]
    },
    {
      "cell_type": "markdown",
      "id": "24a7ac1e-a023-409e-b23c-d4508a3d41bc",
      "metadata": {
        "language": "python",
        "id": "24a7ac1e-a023-409e-b23c-d4508a3d41bc"
      },
      "source": [
        "### Build the Query Engine"
      ]
    },
    {
      "cell_type": "code",
      "execution_count": 63,
      "id": "7ee3af6a-3b04-484c-9f08-e85bd3a941b9",
      "metadata": {
        "execution": {
          "iopub.execute_input": "2024-07-13T15:16:20.219977Z",
          "iopub.status.busy": "2024-07-13T15:16:20.219708Z",
          "iopub.status.idle": "2024-07-13T15:16:20.222845Z",
          "shell.execute_reply": "2024-07-13T15:16:20.222446Z",
          "shell.execute_reply.started": "2024-07-13T15:16:20.219961Z"
        },
        "language": "python",
        "trusted": true,
        "id": "7ee3af6a-3b04-484c-9f08-e85bd3a941b9"
      },
      "outputs": [],
      "source": [
        "query_engine = index.as_query_engine(similarity_top_k=5, llm=llm)"
      ]
    },
    {
      "cell_type": "markdown",
      "id": "c9b7c31d-f1e1-4db5-9038-72e2e64b4d6a",
      "metadata": {
        "language": "python",
        "id": "c9b7c31d-f1e1-4db5-9038-72e2e64b4d6a"
      },
      "source": [
        "### Instantiate the query engine as a Tool"
      ]
    },
    {
      "cell_type": "code",
      "execution_count": 65,
      "id": "fdc08424-83f7-4c67-acae-baf881cb9c7d",
      "metadata": {
        "execution": {
          "iopub.execute_input": "2024-07-13T15:18:42.615015Z",
          "iopub.status.busy": "2024-07-13T15:18:42.614643Z",
          "iopub.status.idle": "2024-07-13T15:18:43.046354Z",
          "shell.execute_reply": "2024-07-13T15:18:43.045916Z",
          "shell.execute_reply.started": "2024-07-13T15:18:42.614999Z"
        },
        "language": "python",
        "trusted": true,
        "id": "fdc08424-83f7-4c67-acae-baf881cb9c7d"
      },
      "outputs": [],
      "source": [
        "from crewai_tools import LlamaIndexTool\n",
        "\n",
        "document_analysis_tool = LlamaIndexTool.from_query_engine(\n",
        "    query_engine,\n",
        "    name=\"Document Analysis Tool\",\n",
        "    description=\"Use this tool to analyze documents and extract relevant information\",\n",
        ")\n"
      ]
    },
    {
      "cell_type": "code",
      "execution_count": 66,
      "id": "beb116b7-c3e5-4ea2-acaa-da8a03e26c1a",
      "metadata": {
        "execution": {
          "iopub.execute_input": "2024-07-13T15:18:54.122036Z",
          "iopub.status.busy": "2024-07-13T15:18:54.121091Z",
          "iopub.status.idle": "2024-07-13T15:18:54.125105Z",
          "shell.execute_reply": "2024-07-13T15:18:54.124758Z",
          "shell.execute_reply.started": "2024-07-13T15:18:54.122016Z"
        },
        "language": "python",
        "trusted": true,
        "colab": {
          "base_uri": "https://localhost:8080/"
        },
        "id": "beb116b7-c3e5-4ea2-acaa-da8a03e26c1a",
        "outputId": "0d6e2e88-9686-46ca-c072-03a4a8ffc37d"
      },
      "outputs": [
        {
          "output_type": "execute_result",
          "data": {
            "text/plain": [
              "{'title': 'QueryToolSchema',\n",
              " 'description': 'Schema for query tool.',\n",
              " 'type': 'object',\n",
              " 'properties': {'query': {'title': 'Query',\n",
              "   'description': 'Search query for the query tool.',\n",
              "   'type': 'string'}},\n",
              " 'required': ['query']}"
            ]
          },
          "metadata": {},
          "execution_count": 66
        }
      ],
      "source": [
        "query_tool.args_schema.schema()"
      ]
    },
    {
      "cell_type": "markdown",
      "id": "236c897d-7d26-4cef-82ba-e64b6d8f1a0d",
      "metadata": {
        "language": "python",
        "id": "236c897d-7d26-4cef-82ba-e64b6d8f1a0d"
      },
      "source": [
        "### Instantiate Researcher and Writer Agents"
      ]
    },
    {
      "cell_type": "code",
      "execution_count": 67,
      "id": "b2b08bfc-537d-4395-a9b8-12c76800d2a2",
      "metadata": {
        "execution": {
          "iopub.execute_input": "2024-07-13T15:19:09.731479Z",
          "iopub.status.busy": "2024-07-13T15:19:09.731233Z",
          "iopub.status.idle": "2024-07-13T15:19:11.189186Z",
          "shell.execute_reply": "2024-07-13T15:19:11.188726Z",
          "shell.execute_reply.started": "2024-07-13T15:19:09.731465Z"
        },
        "language": "python",
        "trusted": true,
        "id": "b2b08bfc-537d-4395-a9b8-12c76800d2a2"
      },
      "outputs": [],
      "source": [
        "import os\n",
        "from crewai import Agent, Task, Crew, Process"
      ]
    },
    {
      "cell_type": "code",
      "execution_count": 68,
      "id": "8f722f60-0ee1-42b6-9cac-d70771507a35",
      "metadata": {
        "execution": {
          "iopub.execute_input": "2024-07-13T15:20:35.738510Z",
          "iopub.status.busy": "2024-07-13T15:20:35.738080Z",
          "iopub.status.idle": "2024-07-13T15:20:35.744053Z",
          "shell.execute_reply": "2024-07-13T15:20:35.743618Z",
          "shell.execute_reply.started": "2024-07-13T15:20:35.738494Z"
        },
        "language": "python",
        "trusted": true,
        "id": "8f722f60-0ee1-42b6-9cac-d70771507a35"
      },
      "outputs": [],
      "source": [
        "# Define a new agent for document analysis\n",
        "document_analyst = Agent(\n",
        "    role=\"Document Analyst\",\n",
        "    goal=\"Analyze documents for historical, cultural, and economic insights\",\n",
        "    backstory=\"\"\"You are an expert in analyzing various documents and providing comprehensive reports.\"\"\",\n",
        "    llm=chat_llm,\n",
        "    verbose=True,\n",
        "    allow_delegation=False,\n",
        "    tools=[document_analysis_tool],\n",
        ")"
      ]
    },
    {
      "cell_type": "markdown",
      "id": "1844a679-fc85-4a33-a745-6d05c3ca3421",
      "metadata": {
        "language": "python",
        "id": "1844a679-fc85-4a33-a745-6d05c3ca3421"
      },
      "source": [
        "### Define respective tasks"
      ]
    },
    {
      "cell_type": "code",
      "execution_count": 69,
      "id": "f9d737a6-3561-4a2d-87e3-cb75364f127d",
      "metadata": {
        "execution": {
          "iopub.execute_input": "2024-07-13T15:25:14.419058Z",
          "iopub.status.busy": "2024-07-13T15:25:14.418508Z",
          "iopub.status.idle": "2024-07-13T15:25:14.422448Z",
          "shell.execute_reply": "2024-07-13T15:25:14.422069Z",
          "shell.execute_reply.started": "2024-07-13T15:25:14.419042Z"
        },
        "language": "python",
        "trusted": true,
        "id": "f9d737a6-3561-4a2d-87e3-cb75364f127d"
      },
      "outputs": [],
      "source": [
        "task1 = Task(\n",
        "    description=\"\"\"Conduct a comprehensive analysis of the Kingdom of Morocco, focusing on its historical, cultural, and economic aspects as presented in the document 'Morocco-1-3.pdf'.\"\"\",\n",
        "    expected_output=\"Full analysis report in bullet points\",\n",
        "    agent=document_analyst,\n",
        ")\n",
        "\n",
        "task2 = Task(\n",
        "    description=\"\"\"Using the insights provided, develop an engaging blog post that highlights the importance of Morocco's historical, cultural, and economic aspects. Your post should be informative yet accessible, catering to a casual audience. Make it sound cool, avoid complex words.\"\"\",\n",
        "    expected_output=\"Full blog post of at least 4 paragraphs\",\n",
        "    agent=writer,\n",
        ")"
      ]
    },
    {
      "cell_type": "markdown",
      "id": "27fbbee5-a050-4cf0-bb55-45e4ff1736e3",
      "metadata": {
        "language": "python",
        "id": "27fbbee5-a050-4cf0-bb55-45e4ff1736e3"
      },
      "source": [
        "### Instantiate the Crew with a sequential process"
      ]
    },
    {
      "cell_type": "code",
      "execution_count": 70,
      "id": "3e251504-9969-42ec-a2d5-a688292c1908",
      "metadata": {
        "execution": {
          "iopub.execute_input": "2024-07-13T15:25:29.978618Z",
          "iopub.status.busy": "2024-07-13T15:25:29.978054Z",
          "iopub.status.idle": "2024-07-13T15:25:29.984067Z",
          "shell.execute_reply": "2024-07-13T15:25:29.983698Z",
          "shell.execute_reply.started": "2024-07-13T15:25:29.978603Z"
        },
        "language": "python",
        "trusted": true,
        "colab": {
          "base_uri": "https://localhost:8080/"
        },
        "id": "3e251504-9969-42ec-a2d5-a688292c1908",
        "outputId": "b0f858e3-5e20-4e37-e6ac-862bc4f35f24"
      },
      "outputs": [
        {
          "output_type": "stream",
          "name": "stderr",
          "text": [
            "WARNING:opentelemetry.trace:Overriding of current TracerProvider is not allowed\n"
          ]
        }
      ],
      "source": [
        "crew = Crew(\n",
        "    agents=[researcher, writer],\n",
        "    tasks=[task1, task2],\n",
        "    verbose=2,  # You can set it to 1 or 2 to different logging levels\n",
        ")"
      ]
    },
    {
      "cell_type": "markdown",
      "id": "477f67b2-92e6-4220-892c-2df5a856a7ee",
      "metadata": {
        "language": "python",
        "id": "477f67b2-92e6-4220-892c-2df5a856a7ee"
      },
      "source": [
        "### Initiate the agent workflow: Let the magic begin!"
      ]
    },
    {
      "cell_type": "code",
      "execution_count": 71,
      "id": "5e852d0c-32da-44dd-8429-44331a2a6719",
      "metadata": {
        "execution": {
          "iopub.execute_input": "2024-07-13T15:25:42.636581Z",
          "iopub.status.busy": "2024-07-13T15:25:42.636100Z",
          "iopub.status.idle": "2024-07-13T15:29:25.574205Z",
          "shell.execute_reply": "2024-07-13T15:29:25.573771Z",
          "shell.execute_reply.started": "2024-07-13T15:25:42.636565Z"
        },
        "language": "python",
        "trusted": true,
        "colab": {
          "base_uri": "https://localhost:8080/"
        },
        "id": "5e852d0c-32da-44dd-8429-44331a2a6719",
        "outputId": "80890958-b739-44e9-fd6f-b068505f59bb"
      },
      "outputs": [
        {
          "output_type": "stream",
          "name": "stdout",
          "text": [
            "\u001b[1m\u001b[95m [2024-07-29 19:21:19][DEBUG]: == Working Agent: Document Analyst\u001b[00m\n",
            "\u001b[1m\u001b[95m [2024-07-29 19:21:19][INFO]: == Starting Task: Conduct a comprehensive analysis of the Kingdom of Morocco, focusing on its historical, cultural, and economic aspects as presented in the document 'Morocco-1-3.pdf'.\u001b[00m\n",
            "\n",
            "\n",
            "\u001b[1m> Entering new CrewAgentExecutor chain...\u001b[0m\n",
            "\u001b[32;1m\u001b[1;3mThought: I need to analyze the document 'Morocco-1-3.pdf' to extract relevant information about the Kingdom of Morocco's historical, cultural, and economic aspects.\n",
            "\n",
            "Action: Document Analysis Tool\n",
            "Action Input: {\"query\": \"historical background of Morocco\"}\u001b[0m\u001b[95m \n",
            "\n",
            "The region constituting Morocco has been inhabited since the Paleolithic era over 300,000 years ago. The Idrisid dynasty was established by Idris I in 788 and was subsequently ruled by a series of other independent dynasties, reaching its zenith as a regional power in the 11th and 12th centuries, under the Almoravid and Almohad dynasties, when it controlled most of the Iberian Peninsula and the Maghreb. Centuries of Arab migration to the Maghreb since the 7th century shifted the demographic scope of the region. In the 15th and 16th centuries, Morocco faced external threats to its sovereignty, with Portugal seizing some territory and the Ottoman Empire encroaching from the east. The Marinid and Saadi dynasties otherwise resisted foreign domination, and Morocco was the only North African nation to escape Ottoman dominion. The 'Alawi dynasty, which rules the country to this day, seized power in 1631, and over the next two centuries expanded diplomatic and commercial relations with the Western world.\n",
            "\u001b[00m\n",
            "\u001b[32;1m\u001b[1;3mThought: I need to analyze the document 'Morocco-1-3.pdf' to extract more information about the Kingdom of Morocco's historical aspects.\n",
            "\n",
            "Action: Document Analysis Tool\n",
            "Action Input: {\"query\": \"colonial period in Morocco\"}\u001b[0m\u001b[95m \n",
            "\n",
            "During the colonial period, Morocco was divided into respective protectorates by France and Spain in 1912, reserving an international zone in Tangier. Following intermittent riots and revolts against colonial rule, Morocco regained its independence and reunified in 1956.\n",
            "\u001b[00m\n",
            "\u001b[32;1m\u001b[1;3mThought: I need to analyze the document 'Morocco-1-3.pdf' to extract relevant information about the Kingdom of Morocco's cultural aspects.\n",
            "\n",
            "Action: Document Analysis Tool\n",
            "Action Input: {\"query\": \"cultural heritage of Morocco\"}\u001b[0m\u001b[95m \n",
            "\n",
            "Moroccan identity and culture is a mix of Arab, Berber, African, and European cultures.\n",
            "\u001b[00m\n",
            "\u001b[32;1m\u001b[1;3mThought: I need to analyze the document 'Morocco-1-3.pdf' to extract relevant information about the Kingdom of Morocco's economic aspects.\n",
            "\n",
            "Action: Document Analysis Tool\n",
            "Action Input: {\"query\": \"economy of Morocco\"}\u001b[0m\u001b[95m \n",
            "\n",
            "The economy of Morocco is the fifth-largest in Africa and has significant influence in both Africa and the Arab world. It is considered a middle power in global affairs. The country has a unitary semi-constitutional monarchy with an elected parliament. The executive branch is led by the King of Morocco and the prime minister, while legislative power is vested in the two chambers of parliament: the House of Representatives and the House of Councillors.\n",
            "\u001b[00m\n",
            "\u001b[32;1m\u001b[1;3mThought: I now know the final answer\n",
            "Final Answer: \n",
            "\n",
            "Here is a comprehensive analysis report of the Kingdom of Morocco, focusing on its historical, cultural, and economic aspects as presented in the document 'Morocco-1-3.pdf':\n",
            "\n",
            "**Historical Aspects:**\n",
            "\n",
            "* The region constituting Morocco has been inhabited since the Paleolithic era over 300,000 years ago.\n",
            "* The Idrisid dynasty was established by Idris I in 788 and was subsequently ruled by a series of other independent dynasties, reaching its zenith as a regional power in the 11th and 12th centuries, under the Almoravid and Almohad dynasties, when it controlled most of the Iberian Peninsula and the Maghreb.\n",
            "* Centuries of Arab migration to the Maghreb since the 7th century shifted the demographic scope of the region.\n",
            "* In the 15th and 16th centuries, Morocco faced external threats to its sovereignty, with Portugal seizing some territory and the Ottoman Empire encroaching from the east.\n",
            "* The Marinid and Saadi dynasties otherwise resisted foreign domination, and Morocco was the only North African nation to escape Ottoman dominion.\n",
            "* The 'Alawi dynasty, which rules the country to this day, seized power in 1631, and over the next two centuries expanded diplomatic and commercial relations with the Western world.\n",
            "* During the colonial period, Morocco was divided into respective protectorates by France and Spain in 1912, reserving an international zone in Tangier.\n",
            "* Following intermittent riots and revolts against colonial rule, Morocco regained its independence and reunified in 1956.\n",
            "\n",
            "**Cultural Aspects:**\n",
            "\n",
            "* Moroccan identity and culture is a mix of Arab, Berber, African, and European cultures.\n",
            "\n",
            "**Economic Aspects:**\n",
            "\n",
            "* The economy of Morocco is the fifth-largest in Africa and has significant influence in both Africa and the Arab world.\n",
            "* It is considered a middle power in global affairs.\n",
            "* The country has a unitary semi-constitutional monarchy with an elected parliament.\n",
            "* The executive branch is led by the King of Morocco and the prime minister, while legislative power is vested in the two chambers of parliament: the House of Representatives and the House of Councillors.\u001b[0m\n",
            "\n",
            "\u001b[1m> Finished chain.\u001b[0m\n",
            "\u001b[1m\u001b[92m [2024-07-29 19:23:38][DEBUG]: == [Document Analyst] Task output: Here is a comprehensive analysis report of the Kingdom of Morocco, focusing on its historical, cultural, and economic aspects as presented in the document 'Morocco-1-3.pdf':\n",
            "\n",
            "**Historical Aspects:**\n",
            "\n",
            "* The region constituting Morocco has been inhabited since the Paleolithic era over 300,000 years ago.\n",
            "* The Idrisid dynasty was established by Idris I in 788 and was subsequently ruled by a series of other independent dynasties, reaching its zenith as a regional power in the 11th and 12th centuries, under the Almoravid and Almohad dynasties, when it controlled most of the Iberian Peninsula and the Maghreb.\n",
            "* Centuries of Arab migration to the Maghreb since the 7th century shifted the demographic scope of the region.\n",
            "* In the 15th and 16th centuries, Morocco faced external threats to its sovereignty, with Portugal seizing some territory and the Ottoman Empire encroaching from the east.\n",
            "* The Marinid and Saadi dynasties otherwise resisted foreign domination, and Morocco was the only North African nation to escape Ottoman dominion.\n",
            "* The 'Alawi dynasty, which rules the country to this day, seized power in 1631, and over the next two centuries expanded diplomatic and commercial relations with the Western world.\n",
            "* During the colonial period, Morocco was divided into respective protectorates by France and Spain in 1912, reserving an international zone in Tangier.\n",
            "* Following intermittent riots and revolts against colonial rule, Morocco regained its independence and reunified in 1956.\n",
            "\n",
            "**Cultural Aspects:**\n",
            "\n",
            "* Moroccan identity and culture is a mix of Arab, Berber, African, and European cultures.\n",
            "\n",
            "**Economic Aspects:**\n",
            "\n",
            "* The economy of Morocco is the fifth-largest in Africa and has significant influence in both Africa and the Arab world.\n",
            "* It is considered a middle power in global affairs.\n",
            "* The country has a unitary semi-constitutional monarchy with an elected parliament.\n",
            "* The executive branch is led by the King of Morocco and the prime minister, while legislative power is vested in the two chambers of parliament: the House of Representatives and the House of Councillors.\n",
            "\n",
            "\u001b[00m\n",
            "\u001b[1m\u001b[95m [2024-07-29 19:23:38][DEBUG]: == Working Agent: Tech Content Strategist\u001b[00m\n",
            "\u001b[1m\u001b[95m [2024-07-29 19:23:38][INFO]: == Starting Task: Using the insights provided, develop an engaging blog post that highlights the importance of Morocco's historical, cultural, and economic aspects. Your post should be informative yet accessible, catering to a casual audience. Make it sound cool, avoid complex words.\u001b[00m\n",
            "\n",
            "\n",
            "\u001b[1m> Entering new CrewAgentExecutor chain...\u001b[0m\n",
            "\u001b[32;1m\u001b[1;3m\u001b[0m\u001b[32;1m\u001b[1;3mThought: I now can give a great answer\n",
            "\n",
            "Final Answer:\n",
            "\n",
            "**Unveiling the Fascinating Kingdom of Morocco: A Treasure Trove of History, Culture, and Economy**\n",
            "\n",
            "Morocco, a country located in the northwest corner of Africa, is a treasure trove of rich history, vibrant culture, and thriving economy. From its ancient dynasties to its modern-day influence, Morocco has been a significant player in the global arena. In this blog post, we'll delve into the fascinating aspects of Morocco, exploring its historical, cultural, and economic facets that make it a unique and captivating nation.\n",
            "\n",
            "**A Historical Odyssey**\n",
            "\n",
            "Morocco's history dates back to the Paleolithic era, over 300,000 years ago. The region has been inhabited by various dynasties, including the Idrisid, Almoravid, and Almohad, which reached its zenith in the 11th and 12th centuries. During this period, Morocco controlled most of the Iberian Peninsula and the Maghreb, making it a regional power. The country has also faced external threats, including the Ottoman Empire and European colonizers, but has managed to maintain its sovereignty. The 'Alawi dynasty, which rules the country to this day, has expanded diplomatic and commercial relations with the Western world since the 17th century.\n",
            "\n",
            "**A Cultural Melting Pot**\n",
            "\n",
            "Moroccan identity and culture is a unique blend of Arab, Berber, African, and European influences. This cultural diversity is reflected in its architecture, cuisine, music, and art. From the vibrant souks (markets) of Marrakech to the tranquil Atlas Mountains, Morocco is a country that seamlessly blends tradition and modernity. The country's cultural heritage is a testament to its rich history, with a mix of Islamic, Christian, and Jewish influences. Moroccan cuisine, for instance, is a delicious blend of spices, meats, and vegetables, with popular dishes like tagine and couscous.\n",
            "\n",
            "**An Economic Powerhouse**\n",
            "\n",
            "Morocco's economy is the fifth-largest in Africa, with significant influence in both Africa and the Arab world. The country is considered a middle power in global affairs, with a unitary semi-constitutional monarchy and an elected parliament. The executive branch is led by the King of Morocco and the prime minister, while legislative power is vested in the two chambers of parliament: the House of Representatives and the House of Councillors. Morocco's economy is driven by a range of industries, including agriculture, phosphates, textiles, and tourism. The country has also invested heavily in renewable energy, with a goal of generating 52% of its electricity from wind and solar power by 2030.\n",
            "\n",
            "In conclusion, Morocco is a country that offers a unique blend of history, culture, and economy. From its ancient dynasties to its modern-day influence, Morocco is a nation that is sure to captivate and inspire. Whether you're interested in exploring its vibrant cities, learning about its rich history, or experiencing its diverse culture, Morocco is a destination that has something for everyone. So, come and discover the fascinating Kingdom of Morocco – a treasure trove of wonders waiting to be uncovered.\u001b[0m\n",
            "\n",
            "\u001b[1m> Finished chain.\u001b[0m\n",
            "\u001b[1m\u001b[92m [2024-07-29 19:23:57][DEBUG]: == [Tech Content Strategist] Task output: **Unveiling the Fascinating Kingdom of Morocco: A Treasure Trove of History, Culture, and Economy**\n",
            "\n",
            "Morocco, a country located in the northwest corner of Africa, is a treasure trove of rich history, vibrant culture, and thriving economy. From its ancient dynasties to its modern-day influence, Morocco has been a significant player in the global arena. In this blog post, we'll delve into the fascinating aspects of Morocco, exploring its historical, cultural, and economic facets that make it a unique and captivating nation.\n",
            "\n",
            "**A Historical Odyssey**\n",
            "\n",
            "Morocco's history dates back to the Paleolithic era, over 300,000 years ago. The region has been inhabited by various dynasties, including the Idrisid, Almoravid, and Almohad, which reached its zenith in the 11th and 12th centuries. During this period, Morocco controlled most of the Iberian Peninsula and the Maghreb, making it a regional power. The country has also faced external threats, including the Ottoman Empire and European colonizers, but has managed to maintain its sovereignty. The 'Alawi dynasty, which rules the country to this day, has expanded diplomatic and commercial relations with the Western world since the 17th century.\n",
            "\n",
            "**A Cultural Melting Pot**\n",
            "\n",
            "Moroccan identity and culture is a unique blend of Arab, Berber, African, and European influences. This cultural diversity is reflected in its architecture, cuisine, music, and art. From the vibrant souks (markets) of Marrakech to the tranquil Atlas Mountains, Morocco is a country that seamlessly blends tradition and modernity. The country's cultural heritage is a testament to its rich history, with a mix of Islamic, Christian, and Jewish influences. Moroccan cuisine, for instance, is a delicious blend of spices, meats, and vegetables, with popular dishes like tagine and couscous.\n",
            "\n",
            "**An Economic Powerhouse**\n",
            "\n",
            "Morocco's economy is the fifth-largest in Africa, with significant influence in both Africa and the Arab world. The country is considered a middle power in global affairs, with a unitary semi-constitutional monarchy and an elected parliament. The executive branch is led by the King of Morocco and the prime minister, while legislative power is vested in the two chambers of parliament: the House of Representatives and the House of Councillors. Morocco's economy is driven by a range of industries, including agriculture, phosphates, textiles, and tourism. The country has also invested heavily in renewable energy, with a goal of generating 52% of its electricity from wind and solar power by 2030.\n",
            "\n",
            "In conclusion, Morocco is a country that offers a unique blend of history, culture, and economy. From its ancient dynasties to its modern-day influence, Morocco is a nation that is sure to captivate and inspire. Whether you're interested in exploring its vibrant cities, learning about its rich history, or experiencing its diverse culture, Morocco is a destination that has something for everyone. So, come and discover the fascinating Kingdom of Morocco – a treasure trove of wonders waiting to be uncovered.\n",
            "\n",
            "\u001b[00m\n",
            "######################\n",
            "**Unveiling the Fascinating Kingdom of Morocco: A Treasure Trove of History, Culture, and Economy**\n",
            "\n",
            "Morocco, a country located in the northwest corner of Africa, is a treasure trove of rich history, vibrant culture, and thriving economy. From its ancient dynasties to its modern-day influence, Morocco has been a significant player in the global arena. In this blog post, we'll delve into the fascinating aspects of Morocco, exploring its historical, cultural, and economic facets that make it a unique and captivating nation.\n",
            "\n",
            "**A Historical Odyssey**\n",
            "\n",
            "Morocco's history dates back to the Paleolithic era, over 300,000 years ago. The region has been inhabited by various dynasties, including the Idrisid, Almoravid, and Almohad, which reached its zenith in the 11th and 12th centuries. During this period, Morocco controlled most of the Iberian Peninsula and the Maghreb, making it a regional power. The country has also faced external threats, including the Ottoman Empire and European colonizers, but has managed to maintain its sovereignty. The 'Alawi dynasty, which rules the country to this day, has expanded diplomatic and commercial relations with the Western world since the 17th century.\n",
            "\n",
            "**A Cultural Melting Pot**\n",
            "\n",
            "Moroccan identity and culture is a unique blend of Arab, Berber, African, and European influences. This cultural diversity is reflected in its architecture, cuisine, music, and art. From the vibrant souks (markets) of Marrakech to the tranquil Atlas Mountains, Morocco is a country that seamlessly blends tradition and modernity. The country's cultural heritage is a testament to its rich history, with a mix of Islamic, Christian, and Jewish influences. Moroccan cuisine, for instance, is a delicious blend of spices, meats, and vegetables, with popular dishes like tagine and couscous.\n",
            "\n",
            "**An Economic Powerhouse**\n",
            "\n",
            "Morocco's economy is the fifth-largest in Africa, with significant influence in both Africa and the Arab world. The country is considered a middle power in global affairs, with a unitary semi-constitutional monarchy and an elected parliament. The executive branch is led by the King of Morocco and the prime minister, while legislative power is vested in the two chambers of parliament: the House of Representatives and the House of Councillors. Morocco's economy is driven by a range of industries, including agriculture, phosphates, textiles, and tourism. The country has also invested heavily in renewable energy, with a goal of generating 52% of its electricity from wind and solar power by 2030.\n",
            "\n",
            "In conclusion, Morocco is a country that offers a unique blend of history, culture, and economy. From its ancient dynasties to its modern-day influence, Morocco is a nation that is sure to captivate and inspire. Whether you're interested in exploring its vibrant cities, learning about its rich history, or experiencing its diverse culture, Morocco is a destination that has something for everyone. So, come and discover the fascinating Kingdom of Morocco – a treasure trove of wonders waiting to be uncovered.\n"
          ]
        }
      ],
      "source": [
        "result = crew.kickoff()\n",
        "\n",
        "print(\"######################\")\n",
        "print(result)"
      ]
    },
    {
      "cell_type": "code",
      "execution_count": null,
      "id": "323015f7-16e6-43d8-97dc-24dd43bb19e9",
      "metadata": {
        "language": "python",
        "trusted": true,
        "id": "323015f7-16e6-43d8-97dc-24dd43bb19e9"
      },
      "outputs": [],
      "source": []
    }
  ],
  "metadata": {
    "jupyterlab": {
      "notebooks": {
        "version_major": 6,
        "version_minor": 4
      }
    },
    "kernelspec": {
      "display_name": "Python 3 (ipykernel)",
      "language": "python",
      "name": "python3"
    },
    "language_info": {
      "codemirror_mode": {
        "name": "ipython",
        "version": 3
      },
      "file_extension": ".py",
      "mimetype": "text/x-python",
      "name": "python",
      "nbconvert_exporter": "python",
      "pygments_lexer": "ipython3",
      "version": "3.9.0"
    },
    "singlestore_cell_default_language": "python",
    "singlestore_connection": {
      "connectionID": "a22b6f8b-b11b-4979-98da-98513e9876e6",
      "defaultDatabase": ""
    },
    "singlestore_row_limit": 300,
    "colab": {
      "provenance": []
    }
  },
  "nbformat": 4,
  "nbformat_minor": 5
}
