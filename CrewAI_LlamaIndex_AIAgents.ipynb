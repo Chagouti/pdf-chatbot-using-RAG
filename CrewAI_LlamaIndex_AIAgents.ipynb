{
  "cells": [
    {
      "cell_type": "markdown",
      "id": "7242cfe8-fa00-443b-b7dd-0dec6d8ba2c1",
      "metadata": {
        "language": "python",
        "id": "7242cfe8-fa00-443b-b7dd-0dec6d8ba2c1"
      },
      "source": [
        "# Pdf Chatbot Using CrewAI and LlamaIndex"
      ]
    },
    {
      "cell_type": "markdown",
      "id": "3d697c05-911c-4cdd-ae8a-d456b5330dc3",
      "metadata": {
        "language": "python",
        "id": "3d697c05-911c-4cdd-ae8a-d456b5330dc3"
      },
      "source": [
        "### Install required dependencies"
      ]
    },
    {
      "cell_type": "code",
      "execution_count": 1,
      "id": "269f0335-b871-488d-beea-f607d844775b",
      "metadata": {
        "execution": {
          "iopub.execute_input": "2024-07-13T15:06:44.991477Z",
          "iopub.status.busy": "2024-07-13T15:06:44.990961Z",
          "iopub.status.idle": "2024-07-13T15:07:09.946435Z",
          "shell.execute_reply": "2024-07-13T15:07:09.945887Z",
          "shell.execute_reply.started": "2024-07-13T15:06:44.991460Z"
        },
        "language": "python",
        "trusted": true,
        "colab": {
          "base_uri": "https://localhost:8080/"
        },
        "id": "269f0335-b871-488d-beea-f607d844775b",
        "outputId": "863ee78c-9f7f-486c-a9a4-e98f12f6e4ee"
      },
      "outputs": [
        {
          "output_type": "stream",
          "name": "stdout",
          "text": [
            "\u001b[2K   \u001b[90m━━━━━━━━━━━━━━━━━━━━━━━━━━━━━━━━━━━━━━━━\u001b[0m \u001b[32m15.5/15.5 MB\u001b[0m \u001b[31m37.6 MB/s\u001b[0m eta \u001b[36m0:00:00\u001b[0m\n",
            "\u001b[2K   \u001b[90m━━━━━━━━━━━━━━━━━━━━━━━━━━━━━━━━━━━━━━━━\u001b[0m \u001b[32m2.0/2.0 MB\u001b[0m \u001b[31m36.2 MB/s\u001b[0m eta \u001b[36m0:00:00\u001b[0m\n",
            "\u001b[2K   \u001b[90m━━━━━━━━━━━━━━━━━━━━━━━━━━━━━━━━━━━━━━━━\u001b[0m \u001b[32m154.8/154.8 kB\u001b[0m \u001b[31m7.0 MB/s\u001b[0m eta \u001b[36m0:00:00\u001b[0m\n",
            "\u001b[2K   \u001b[90m━━━━━━━━━━━━━━━━━━━━━━━━━━━━━━━━━━━━━━━━\u001b[0m \u001b[32m75.6/75.6 kB\u001b[0m \u001b[31m3.2 MB/s\u001b[0m eta \u001b[36m0:00:00\u001b[0m\n",
            "\u001b[2K   \u001b[90m━━━━━━━━━━━━━━━━━━━━━━━━━━━━━━━━━━━━━━━━\u001b[0m \u001b[32m77.9/77.9 kB\u001b[0m \u001b[31m3.4 MB/s\u001b[0m eta \u001b[36m0:00:00\u001b[0m\n",
            "\u001b[2K   \u001b[90m━━━━━━━━━━━━━━━━━━━━━━━━━━━━━━━━━━━━━━━━\u001b[0m \u001b[32m337.0/337.0 kB\u001b[0m \u001b[31m13.1 MB/s\u001b[0m eta \u001b[36m0:00:00\u001b[0m\n",
            "\u001b[2K   \u001b[90m━━━━━━━━━━━━━━━━━━━━━━━━━━━━━━━━━━━━━━━━\u001b[0m \u001b[32m295.8/295.8 kB\u001b[0m \u001b[31m14.7 MB/s\u001b[0m eta \u001b[36m0:00:00\u001b[0m\n",
            "\u001b[2K   \u001b[90m━━━━━━━━━━━━━━━━━━━━━━━━━━━━━━━━━━━━━━━━\u001b[0m \u001b[32m1.1/1.1 MB\u001b[0m \u001b[31m26.0 MB/s\u001b[0m eta \u001b[36m0:00:00\u001b[0m\n",
            "\u001b[2K   \u001b[90m━━━━━━━━━━━━━━━━━━━━━━━━━━━━━━━━━━━━━━━━\u001b[0m \u001b[32m49.2/49.2 kB\u001b[0m \u001b[31m1.5 MB/s\u001b[0m eta \u001b[36m0:00:00\u001b[0m\n",
            "\u001b[2K   \u001b[90m━━━━━━━━━━━━━━━━━━━━━━━━━━━━━━━━━━━━━━━━\u001b[0m \u001b[32m58.3/58.3 kB\u001b[0m \u001b[31m2.2 MB/s\u001b[0m eta \u001b[36m0:00:00\u001b[0m\n",
            "\u001b[2K   \u001b[90m━━━━━━━━━━━━━━━━━━━━━━━━━━━━━━━━━━━━━━━━\u001b[0m \u001b[32m227.1/227.1 kB\u001b[0m \u001b[31m1.5 MB/s\u001b[0m eta \u001b[36m0:00:00\u001b[0m\n",
            "\u001b[2K   \u001b[90m━━━━━━━━━━━━━━━━━━━━━━━━━━━━━━━━━━━━━━━━\u001b[0m \u001b[32m853.2/853.2 kB\u001b[0m \u001b[31m8.6 MB/s\u001b[0m eta \u001b[36m0:00:00\u001b[0m\n",
            "\u001b[2K   \u001b[90m━━━━━━━━━━━━━━━━━━━━━━━━━━━━━━━━━━━━━━━━\u001b[0m \u001b[32m21.3/21.3 MB\u001b[0m \u001b[31m19.6 MB/s\u001b[0m eta \u001b[36m0:00:00\u001b[0m\n",
            "\u001b[2K     \u001b[90m━━━━━━━━━━━━━━━━━━━━━━━━━━━━━━━━━━━━━━━━\u001b[0m \u001b[32m40.9/40.9 kB\u001b[0m \u001b[31m1.4 MB/s\u001b[0m eta \u001b[36m0:00:00\u001b[0m\n",
            "\u001b[?25h  Preparing metadata (setup.py) ... \u001b[?25l\u001b[?25hdone\n",
            "\u001b[2K     \u001b[90m━━━━━━━━━━━━━━━━━━━━━━━━━━━━━━━━━━━━━━━━\u001b[0m \u001b[32m67.3/67.3 kB\u001b[0m \u001b[31m2.4 MB/s\u001b[0m eta \u001b[36m0:00:00\u001b[0m\n",
            "\u001b[?25h  Installing build dependencies ... \u001b[?25l\u001b[?25hdone\n",
            "  Getting requirements to build wheel ... \u001b[?25l\u001b[?25hdone\n",
            "  Preparing metadata (pyproject.toml) ... \u001b[?25l\u001b[?25hdone\n",
            "\u001b[2K     \u001b[90m━━━━━━━━━━━━━━━━━━━━━━━━━━━━━━━━━━━━━━━━\u001b[0m \u001b[32m50.4/50.4 kB\u001b[0m \u001b[31m2.1 MB/s\u001b[0m eta \u001b[36m0:00:00\u001b[0m\n",
            "\u001b[2K   \u001b[90m━━━━━━━━━━━━━━━━━━━━━━━━━━━━━━━━━━━━━━━━\u001b[0m \u001b[32m50.2/50.2 kB\u001b[0m \u001b[31m1.4 MB/s\u001b[0m eta \u001b[36m0:00:00\u001b[0m\n",
            "\u001b[2K   \u001b[90m━━━━━━━━━━━━━━━━━━━━━━━━━━━━━━━━━━━━━━━━\u001b[0m \u001b[32m84.2/84.2 kB\u001b[0m \u001b[31m1.9 MB/s\u001b[0m eta \u001b[36m0:00:00\u001b[0m\n",
            "\u001b[2K   \u001b[90m━━━━━━━━━━━━━━━━━━━━━━━━━━━━━━━━━━━━━━━━\u001b[0m \u001b[32m209.3/209.3 kB\u001b[0m \u001b[31m2.1 MB/s\u001b[0m eta \u001b[36m0:00:00\u001b[0m\n",
            "\u001b[2K   \u001b[90m━━━━━━━━━━━━━━━━━━━━━━━━━━━━━━━━━━━━━━━━\u001b[0m \u001b[32m990.3/990.3 kB\u001b[0m \u001b[31m2.5 MB/s\u001b[0m eta \u001b[36m0:00:00\u001b[0m\n",
            "\u001b[2K   \u001b[90m━━━━━━━━━━━━━━━━━━━━━━━━━━━━━━━━━━━━━━━━\u001b[0m \u001b[32m61.5/61.5 kB\u001b[0m \u001b[31m1.8 MB/s\u001b[0m eta \u001b[36m0:00:00\u001b[0m\n",
            "\u001b[2K   \u001b[90m━━━━━━━━━━━━━━━━━━━━━━━━━━━━━━━━━━━━━━━━\u001b[0m \u001b[32m52.5/52.5 kB\u001b[0m \u001b[31m1.7 MB/s\u001b[0m eta \u001b[36m0:00:00\u001b[0m\n",
            "\u001b[2K   \u001b[90m━━━━━━━━━━━━━━━━━━━━━━━━━━━━━━━━━━━━━━━━\u001b[0m \u001b[32m109.5/109.5 kB\u001b[0m \u001b[31m2.4 MB/s\u001b[0m eta \u001b[36m0:00:00\u001b[0m\n",
            "\u001b[2K   \u001b[90m━━━━━━━━━━━━━━━━━━━━━━━━━━━━━━━━━━━━━━━━\u001b[0m \u001b[32m138.0/138.0 kB\u001b[0m \u001b[31m2.0 MB/s\u001b[0m eta \u001b[36m0:00:00\u001b[0m\n",
            "\u001b[2K   \u001b[90m━━━━━━━━━━━━━━━━━━━━━━━━━━━━━━━━━━━━━━━━\u001b[0m \u001b[32m774.0/774.0 kB\u001b[0m \u001b[31m2.7 MB/s\u001b[0m eta \u001b[36m0:00:00\u001b[0m\n",
            "\u001b[2K   \u001b[90m━━━━━━━━━━━━━━━━━━━━━━━━━━━━━━━━━━━━━━━━\u001b[0m \u001b[32m91.8/91.8 kB\u001b[0m \u001b[31m2.3 MB/s\u001b[0m eta \u001b[36m0:00:00\u001b[0m\n",
            "\u001b[2K   \u001b[90m━━━━━━━━━━━━━━━━━━━━━━━━━━━━━━━━━━━━━━━━\u001b[0m \u001b[32m233.0/233.0 kB\u001b[0m \u001b[31m2.5 MB/s\u001b[0m eta \u001b[36m0:00:00\u001b[0m\n",
            "\u001b[2K   \u001b[90m━━━━━━━━━━━━━━━━━━━━━━━━━━━━━━━━━━━━━━━━\u001b[0m \u001b[32m525.5/525.5 kB\u001b[0m \u001b[31m2.7 MB/s\u001b[0m eta \u001b[36m0:00:00\u001b[0m\n",
            "\u001b[2K   \u001b[90m━━━━━━━━━━━━━━━━━━━━━━━━━━━━━━━━━━━━━━━━\u001b[0m \u001b[32m2.4/2.4 MB\u001b[0m \u001b[31m2.3 MB/s\u001b[0m eta \u001b[36m0:00:00\u001b[0m\n",
            "\u001b[2K   \u001b[90m━━━━━━━━━━━━━━━━━━━━━━━━━━━━━━━━━━━━━━━━\u001b[0m \u001b[32m177.4/177.4 kB\u001b[0m \u001b[31m1.1 MB/s\u001b[0m eta \u001b[36m0:00:00\u001b[0m\n",
            "\u001b[2K   \u001b[90m━━━━━━━━━━━━━━━━━━━━━━━━━━━━━━━━━━━━━━━━\u001b[0m \u001b[32m147.8/147.8 kB\u001b[0m \u001b[31m1.1 MB/s\u001b[0m eta \u001b[36m0:00:00\u001b[0m\n",
            "\u001b[2K   \u001b[90m━━━━━━━━━━━━━━━━━━━━━━━━━━━━━━━━━━━━━━━━\u001b[0m \u001b[32m131.5/131.5 kB\u001b[0m \u001b[31m1.1 MB/s\u001b[0m eta \u001b[36m0:00:00\u001b[0m\n",
            "\u001b[2K   \u001b[90m━━━━━━━━━━━━━━━━━━━━━━━━━━━━━━━━━━━━━━━━\u001b[0m \u001b[32m327.6/327.6 kB\u001b[0m \u001b[31m1.2 MB/s\u001b[0m eta \u001b[36m0:00:00\u001b[0m\n",
            "\u001b[2K   \u001b[90m━━━━━━━━━━━━━━━━━━━━━━━━━━━━━━━━━━━━━━━━\u001b[0m \u001b[32m115.1/115.1 kB\u001b[0m \u001b[31m966.6 kB/s\u001b[0m eta \u001b[36m0:00:00\u001b[0m\n",
            "\u001b[2K   \u001b[90m━━━━━━━━━━━━━━━━━━━━━━━━━━━━━━━━━━━━━━━━\u001b[0m \u001b[32m21.6/21.6 MB\u001b[0m \u001b[31m2.8 MB/s\u001b[0m eta \u001b[36m0:00:00\u001b[0m\n",
            "\u001b[2K   \u001b[90m━━━━━━━━━━━━━━━━━━━━━━━━━━━━━━━━━━━━━━━━\u001b[0m \u001b[32m2.3/2.3 MB\u001b[0m \u001b[31m3.7 MB/s\u001b[0m eta \u001b[36m0:00:00\u001b[0m\n",
            "\u001b[2K   \u001b[90m━━━━━━━━━━━━━━━━━━━━━━━━━━━━━━━━━━━━━━━━\u001b[0m \u001b[32m377.3/377.3 kB\u001b[0m \u001b[31m3.4 MB/s\u001b[0m eta \u001b[36m0:00:00\u001b[0m\n",
            "\u001b[2K   \u001b[90m━━━━━━━━━━━━━━━━━━━━━━━━━━━━━━━━━━━━━━━━\u001b[0m \u001b[32m47.1/47.1 kB\u001b[0m \u001b[31m1.9 MB/s\u001b[0m eta \u001b[36m0:00:00\u001b[0m\n",
            "\u001b[2K   \u001b[90m━━━━━━━━━━━━━━━━━━━━━━━━━━━━━━━━━━━━━━━━\u001b[0m \u001b[32m139.8/139.8 kB\u001b[0m \u001b[31m3.2 MB/s\u001b[0m eta \u001b[36m0:00:00\u001b[0m\n",
            "\u001b[2K   \u001b[90m━━━━━━━━━━━━━━━━━━━━━━━━━━━━━━━━━━━━━━━━\u001b[0m \u001b[32m41.3/41.3 kB\u001b[0m \u001b[31m1.9 MB/s\u001b[0m eta \u001b[36m0:00:00\u001b[0m\n",
            "\u001b[2K   \u001b[90m━━━━━━━━━━━━━━━━━━━━━━━━━━━━━━━━━━━━━━━━\u001b[0m \u001b[32m71.1/71.1 kB\u001b[0m \u001b[31m2.6 MB/s\u001b[0m eta \u001b[36m0:00:00\u001b[0m\n",
            "\u001b[2K   \u001b[90m━━━━━━━━━━━━━━━━━━━━━━━━━━━━━━━━━━━━━━━━\u001b[0m \u001b[32m341.8/341.8 kB\u001b[0m \u001b[31m3.3 MB/s\u001b[0m eta \u001b[36m0:00:00\u001b[0m\n",
            "\u001b[2K   \u001b[90m━━━━━━━━━━━━━━━━━━━━━━━━━━━━━━━━━━━━━━━━\u001b[0m \u001b[32m57.6/57.6 kB\u001b[0m \u001b[31m2.1 MB/s\u001b[0m eta \u001b[36m0:00:00\u001b[0m\n",
            "\u001b[2K   \u001b[90m━━━━━━━━━━━━━━━━━━━━━━━━━━━━━━━━━━━━━━━━\u001b[0m \u001b[32m9.4/9.4 MB\u001b[0m \u001b[31m4.4 MB/s\u001b[0m eta \u001b[36m0:00:00\u001b[0m\n",
            "\u001b[2K   \u001b[90m━━━━━━━━━━━━━━━━━━━━━━━━━━━━━━━━━━━━━━━━\u001b[0m \u001b[32m273.8/273.8 kB\u001b[0m \u001b[31m3.9 MB/s\u001b[0m eta \u001b[36m0:00:00\u001b[0m\n",
            "\u001b[2K   \u001b[90m━━━━━━━━━━━━━━━━━━━━━━━━━━━━━━━━━━━━━━━━\u001b[0m \u001b[32m139.2/139.2 kB\u001b[0m \u001b[31m4.3 MB/s\u001b[0m eta \u001b[36m0:00:00\u001b[0m\n",
            "\u001b[2K   \u001b[90m━━━━━━━━━━━━━━━━━━━━━━━━━━━━━━━━━━━━━━━━\u001b[0m \u001b[32m92.2/92.2 kB\u001b[0m \u001b[31m3.4 MB/s\u001b[0m eta \u001b[36m0:00:00\u001b[0m\n",
            "\u001b[2K   \u001b[90m━━━━━━━━━━━━━━━━━━━━━━━━━━━━━━━━━━━━━━━━\u001b[0m \u001b[32m3.1/3.1 MB\u001b[0m \u001b[31m3.7 MB/s\u001b[0m eta \u001b[36m0:00:00\u001b[0m\n",
            "\u001b[2K   \u001b[90m━━━━━━━━━━━━━━━━━━━━━━━━━━━━━━━━━━━━━━━━\u001b[0m \u001b[32m1.7/1.7 MB\u001b[0m \u001b[31m2.9 MB/s\u001b[0m eta \u001b[36m0:00:00\u001b[0m\n",
            "\u001b[2K   \u001b[90m━━━━━━━━━━━━━━━━━━━━━━━━━━━━━━━━━━━━━━━━\u001b[0m \u001b[32m203.2/203.2 kB\u001b[0m \u001b[31m2.6 MB/s\u001b[0m eta \u001b[36m0:00:00\u001b[0m\n",
            "\u001b[2K   \u001b[90m━━━━━━━━━━━━━━━━━━━━━━━━━━━━━━━━━━━━━━━━\u001b[0m \u001b[32m67.6/67.6 kB\u001b[0m \u001b[31m2.2 MB/s\u001b[0m eta \u001b[36m0:00:00\u001b[0m\n",
            "\u001b[2K   \u001b[90m━━━━━━━━━━━━━━━━━━━━━━━━━━━━━━━━━━━━━━━━\u001b[0m \u001b[32m6.8/6.8 MB\u001b[0m \u001b[31m3.2 MB/s\u001b[0m eta \u001b[36m0:00:00\u001b[0m\n",
            "\u001b[2K   \u001b[90m━━━━━━━━━━━━━━━━━━━━━━━━━━━━━━━━━━━━━━━━\u001b[0m \u001b[32m141.1/141.1 kB\u001b[0m \u001b[31m2.2 MB/s\u001b[0m eta \u001b[36m0:00:00\u001b[0m\n",
            "\u001b[2K   \u001b[90m━━━━━━━━━━━━━━━━━━━━━━━━━━━━━━━━━━━━━━━━\u001b[0m \u001b[32m5.4/5.4 MB\u001b[0m \u001b[31m2.5 MB/s\u001b[0m eta \u001b[36m0:00:00\u001b[0m\n",
            "\u001b[2K   \u001b[90m━━━━━━━━━━━━━━━━━━━━━━━━━━━━━━━━━━━━━━━━\u001b[0m \u001b[32m254.1/254.1 kB\u001b[0m \u001b[31m1.4 MB/s\u001b[0m eta \u001b[36m0:00:00\u001b[0m\n",
            "\u001b[2K   \u001b[90m━━━━━━━━━━━━━━━━━━━━━━━━━━━━━━━━━━━━━━━━\u001b[0m \u001b[32m475.7/475.7 kB\u001b[0m \u001b[31m2.2 MB/s\u001b[0m eta \u001b[36m0:00:00\u001b[0m\n",
            "\u001b[2K   \u001b[90m━━━━━━━━━━━━━━━━━━━━━━━━━━━━━━━━━━━━━━━━\u001b[0m \u001b[32m62.8/62.8 kB\u001b[0m \u001b[31m1.5 MB/s\u001b[0m eta \u001b[36m0:00:00\u001b[0m\n",
            "\u001b[2K   \u001b[90m━━━━━━━━━━━━━━━━━━━━━━━━━━━━━━━━━━━━━━━━\u001b[0m \u001b[32m78.6/78.6 kB\u001b[0m \u001b[31m1.8 MB/s\u001b[0m eta \u001b[36m0:00:00\u001b[0m\n",
            "\u001b[2K   \u001b[90m━━━━━━━━━━━━━━━━━━━━━━━━━━━━━━━━━━━━━━━━\u001b[0m \u001b[32m12.4/12.4 MB\u001b[0m \u001b[31m2.5 MB/s\u001b[0m eta \u001b[36m0:00:00\u001b[0m\n",
            "\u001b[2K   \u001b[90m━━━━━━━━━━━━━━━━━━━━━━━━━━━━━━━━━━━━━━━━\u001b[0m \u001b[32m2.8/2.8 MB\u001b[0m \u001b[31m3.0 MB/s\u001b[0m eta \u001b[36m0:00:00\u001b[0m\n",
            "\u001b[2K   \u001b[90m━━━━━━━━━━━━━━━━━━━━━━━━━━━━━━━━━━━━━━━━\u001b[0m \u001b[32m294.6/294.6 kB\u001b[0m \u001b[31m2.8 MB/s\u001b[0m eta \u001b[36m0:00:00\u001b[0m\n",
            "\u001b[2K   \u001b[90m━━━━━━━━━━━━━━━━━━━━━━━━━━━━━━━━━━━━━━━━\u001b[0m \u001b[32m341.4/341.4 kB\u001b[0m \u001b[31m2.9 MB/s\u001b[0m eta \u001b[36m0:00:00\u001b[0m\n",
            "\u001b[2K   \u001b[90m━━━━━━━━━━━━━━━━━━━━━━━━━━━━━━━━━━━━━━━━\u001b[0m \u001b[32m98.7/98.7 kB\u001b[0m \u001b[31m2.7 MB/s\u001b[0m eta \u001b[36m0:00:00\u001b[0m\n",
            "\u001b[2K   \u001b[90m━━━━━━━━━━━━━━━━━━━━━━━━━━━━━━━━━━━━━━━━\u001b[0m \u001b[32m82.7/82.7 kB\u001b[0m \u001b[31m2.8 MB/s\u001b[0m eta \u001b[36m0:00:00\u001b[0m\n",
            "\u001b[2K   \u001b[90m━━━━━━━━━━━━━━━━━━━━━━━━━━━━━━━━━━━━━━━━\u001b[0m \u001b[32m71.9/71.9 kB\u001b[0m \u001b[31m2.3 MB/s\u001b[0m eta \u001b[36m0:00:00\u001b[0m\n",
            "\u001b[2K   \u001b[90m━━━━━━━━━━━━━━━━━━━━━━━━━━━━━━━━━━━━━━━━\u001b[0m \u001b[32m3.4/3.4 MB\u001b[0m \u001b[31m3.5 MB/s\u001b[0m eta \u001b[36m0:00:00\u001b[0m\n",
            "\u001b[2K   \u001b[90m━━━━━━━━━━━━━━━━━━━━━━━━━━━━━━━━━━━━━━━━\u001b[0m \u001b[32m1.2/1.2 MB\u001b[0m \u001b[31m3.7 MB/s\u001b[0m eta \u001b[36m0:00:00\u001b[0m\n",
            "\u001b[2K   \u001b[90m━━━━━━━━━━━━━━━━━━━━━━━━━━━━━━━━━━━━━━━━\u001b[0m \u001b[32m130.2/130.2 kB\u001b[0m \u001b[31m3.1 MB/s\u001b[0m eta \u001b[36m0:00:00\u001b[0m\n",
            "\u001b[2K   \u001b[90m━━━━━━━━━━━━━━━━━━━━━━━━━━━━━━━━━━━━━━━━\u001b[0m \u001b[32m46.0/46.0 kB\u001b[0m \u001b[31m2.0 MB/s\u001b[0m eta \u001b[36m0:00:00\u001b[0m\n",
            "\u001b[2K   \u001b[90m━━━━━━━━━━━━━━━━━━━━━━━━━━━━━━━━━━━━━━━━\u001b[0m \u001b[32m307.7/307.7 kB\u001b[0m \u001b[31m3.3 MB/s\u001b[0m eta \u001b[36m0:00:00\u001b[0m\n",
            "\u001b[2K   \u001b[90m━━━━━━━━━━━━━━━━━━━━━━━━━━━━━━━━━━━━━━━━\u001b[0m \u001b[32m57.5/57.5 kB\u001b[0m \u001b[31m2.2 MB/s\u001b[0m eta \u001b[36m0:00:00\u001b[0m\n",
            "\u001b[2K   \u001b[90m━━━━━━━━━━━━━━━━━━━━━━━━━━━━━━━━━━━━━━━━\u001b[0m \u001b[32m86.8/86.8 kB\u001b[0m \u001b[31m2.8 MB/s\u001b[0m eta \u001b[36m0:00:00\u001b[0m\n",
            "\u001b[?25h  Building wheel for docx2txt (setup.py) ... \u001b[?25l\u001b[?25hdone\n",
            "  Building wheel for pypika (pyproject.toml) ... \u001b[?25l\u001b[?25hdone\n",
            "\u001b[31mERROR: pip's dependency resolver does not currently take into account all the packages that are installed. This behaviour is the source of the following dependency conflicts.\n",
            "tensorflow-metadata 1.15.0 requires protobuf<4.21,>=3.20.3; python_version < \"3.11\", but you have protobuf 4.25.4 which is incompatible.\u001b[0m\u001b[31m\n",
            "\u001b[0m"
          ]
        }
      ],
      "source": [
        "!pip install llama-index --quiet\n",
        "!pip install llama-index-llms-groq --quiet\n",
        "!pip install llama-index-core --quiet\n",
        "!pip install llama-index-readers-file --quiet\n",
        "!pip install llama-index-tools-wolfram-alpha --quiet\n",
        "!pip install llama-index-embeddings-huggingface --quiet\n",
        "!pip install 'crewai[tools]' --quiet"
      ]
    },
    {
      "cell_type": "markdown",
      "id": "8dae23be-ea75-4a9a-b3b2-3e7478a49f09",
      "metadata": {
        "language": "python",
        "id": "8dae23be-ea75-4a9a-b3b2-3e7478a49f09"
      },
      "source": [
        "### Let's setup the LLM with Groq. Sign up at Groq, it is free. Go to Groq console and get the API keys."
      ]
    },
    {
      "cell_type": "code",
      "execution_count": 2,
      "id": "1f584e0c-a1fc-4701-9e37-9f9ed608756f",
      "metadata": {
        "execution": {
          "iopub.execute_input": "2024-07-13T15:08:17.493213Z",
          "iopub.status.busy": "2024-07-13T15:08:17.492866Z",
          "iopub.status.idle": "2024-07-13T15:08:20.127034Z",
          "shell.execute_reply": "2024-07-13T15:08:20.126597Z",
          "shell.execute_reply.started": "2024-07-13T15:08:17.493188Z"
        },
        "language": "python",
        "trusted": true,
        "id": "1f584e0c-a1fc-4701-9e37-9f9ed608756f"
      },
      "outputs": [],
      "source": [
        "from llama_index.llms.groq import Groq"
      ]
    },
    {
      "cell_type": "code",
      "execution_count": 3,
      "id": "b7fde01e-8cf9-4ee3-a803-9e37b25d5c74",
      "metadata": {
        "execution": {
          "iopub.execute_input": "2024-07-13T15:08:28.311822Z",
          "iopub.status.busy": "2024-07-13T15:08:28.311315Z",
          "iopub.status.idle": "2024-07-13T15:08:28.314465Z",
          "shell.execute_reply": "2024-07-13T15:08:28.313936Z",
          "shell.execute_reply.started": "2024-07-13T15:08:28.311804Z"
        },
        "language": "python",
        "trusted": true,
        "id": "b7fde01e-8cf9-4ee3-a803-9e37b25d5c74"
      },
      "outputs": [],
      "source": [
        "llm = Groq(model=\"llama3-70b-8192\", api_key=\"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\")"
      ]
    },
    {
      "cell_type": "code",
      "execution_count": 4,
      "id": "e370bd44-3beb-4eb8-ad20-d935b1ee075e",
      "metadata": {
        "execution": {
          "iopub.execute_input": "2024-07-13T15:09:02.179599Z",
          "iopub.status.busy": "2024-07-13T15:09:02.179067Z",
          "iopub.status.idle": "2024-07-13T15:09:04.655213Z",
          "shell.execute_reply": "2024-07-13T15:09:04.654769Z",
          "shell.execute_reply.started": "2024-07-13T15:09:02.179585Z"
        },
        "language": "python",
        "trusted": true,
        "colab": {
          "base_uri": "https://localhost:8080/"
        },
        "id": "e370bd44-3beb-4eb8-ad20-d935b1ee075e",
        "outputId": "546ec738-37cc-4214-9049-79af0f29b5a4"
      },
      "outputs": [
        {
          "output_type": "stream",
          "name": "stdout",
          "text": [
            "Large Language Models (LLMs) have revolutionized the field of Natural Language Processing (NLP) and have numerous applications across various industries. The importance of LLMs can be summarized as follows:\n",
            "\n",
            "1. **Improved Language Understanding**: LLMs have demonstrated remarkable capabilities in understanding human language, including nuances, context, and subtleties. This enables them to generate more accurate and informative responses, making them valuable for applications like chatbots, virtual assistants, and language translation.\n",
            "2. **Enhanced Text Generation**: LLMs can generate high-quality, coherent, and context-specific text, which has numerous applications in content creation, writing assistance, and automated reporting.\n",
            "3. **Advancements in AI Research**: LLMs have pushed the boundaries of AI research, enabling the development of more sophisticated models and techniques. They have also sparked new areas of research, such as multimodal language processing and explainability.\n",
            "4. **Improved Customer Experience**: LLMs can be used to create more personalized and engaging customer experiences, such as chatbots that can understand and respond to customer queries more effectively.\n",
            "5. **Increased Efficiency**: LLMs can automate many tasks, such as data entry, content generation, and language translation, freeing up human resources for more strategic and creative work.\n",
            "6. **Enhanced Decision-Making**: LLMs can analyze large amounts of text data, providing insights and patterns that can inform business decisions, improve risk assessment, and enhance predictive modeling.\n",
            "7. **Accessibility and Inclusion**: LLMs can help bridge language barriers, making information and services more accessible to people with disabilities, language limitations, or those in underserved communities.\n",
            "8. **Cybersecurity**: LLMs can be used to detect and prevent cyber threats, such as phishing attacks, by analyzing and understanding the language patterns used by attackers.\n",
            "9. **Healthcare and Biomedical Applications**: LLMs can be used to analyze medical literature, identify patterns in patient data, and develop personalized treatment plans, leading to improved healthcare outcomes.\n",
            "10. **Scientific Discovery**: LLMs can aid in the analysis of large scientific datasets, accelerating discovery in fields like biology, chemistry, and physics.\n",
            "11. **Education and Learning**: LLMs can create personalized learning experiences, provide real-time feedback, and help students with language-based learning disabilities.\n",
            "12. **Environmental Monitoring**: LLMs can analyze large amounts of text data from environmental sensors, social media, and news articles to monitor and respond to environmental changes and disasters.\n",
            "13. **Social Media Analysis**: LLMs can analyze social media data to understand public opinion, sentiment, and trends, enabling businesses and organizations to make informed decisions.\n",
            "14. **Content Creation and Generation**: LLMs can generate high-quality content, such as articles, blog posts, and social media updates, freeing up human resources for more creative and strategic work.\n",
            "15. **Job Creation and Economic Growth**: The development and deployment of LLMs can create new job opportunities in areas like AI research, development, and deployment, contributing to economic growth.\n",
            "\n",
            "In summary, LLMs have the potential to transform numerous industries and aspects of our lives, from improving customer experiences to advancing scientific discovery. Their importance lies in their ability to understand and generate human language, enabling them to automate tasks, provide insights, and drive innovation.\n"
          ]
        }
      ],
      "source": [
        "response = llm.complete(\"Explain the importance of LLMs\")\n",
        "print(response)"
      ]
    },
    {
      "cell_type": "markdown",
      "id": "6a5ae4f5-2c14-4205-8afc-f244c94834da",
      "metadata": {
        "language": "python",
        "id": "6a5ae4f5-2c14-4205-8afc-f244c94834da"
      },
      "source": [
        "### Crew AI requires a chat based model for binding"
      ]
    },
    {
      "cell_type": "code",
      "execution_count": 5,
      "id": "cef42da2-13be-425f-a8b9-11b0f5adf79a",
      "metadata": {
        "execution": {
          "iopub.execute_input": "2024-07-13T15:10:08.555937Z",
          "iopub.status.busy": "2024-07-13T15:10:08.555542Z",
          "iopub.status.idle": "2024-07-13T15:10:08.793464Z",
          "shell.execute_reply": "2024-07-13T15:10:08.793034Z",
          "shell.execute_reply.started": "2024-07-13T15:10:08.555920Z"
        },
        "language": "python",
        "trusted": true,
        "id": "cef42da2-13be-425f-a8b9-11b0f5adf79a"
      },
      "outputs": [],
      "source": [
        "from langchain_openai import ChatOpenAI\n",
        "\n",
        "# Define your API key here\n",
        "groq_api_key = \"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\"\n",
        "\n",
        "chat_llm = ChatOpenAI(\n",
        "    openai_api_base=\"https://api.groq.com/openai/v1\",\n",
        "    openai_api_key=groq_api_key,\n",
        "    model=\"llama3-70b-8192\",\n",
        "    temperature=0,\n",
        "    max_tokens=1000,\n",
        ")"
      ]
    },
    {
      "cell_type": "markdown",
      "id": "194bd374-b442-4be6-8553-27af9b422449",
      "metadata": {
        "language": "python",
        "id": "194bd374-b442-4be6-8553-27af9b422449"
      },
      "source": [
        "### Download data"
      ]
    },
    {
      "cell_type": "markdown",
      "id": "31554985-5684-473b-b7c4-8fcccbd5438d",
      "metadata": {
        "language": "python",
        "id": "31554985-5684-473b-b7c4-8fcccbd5438d"
      },
      "source": [
        "### Parse the content of the data"
      ]
    },
    {
      "cell_type": "code",
      "execution_count": 6,
      "id": "ee5510a5-ddab-4dfa-8ce7-de608f968e70",
      "metadata": {
        "execution": {
          "iopub.execute_input": "2024-07-13T15:12:45.424823Z",
          "iopub.status.busy": "2024-07-13T15:12:45.424341Z",
          "iopub.status.idle": "2024-07-13T15:12:45.427201Z",
          "shell.execute_reply": "2024-07-13T15:12:45.426829Z",
          "shell.execute_reply.started": "2024-07-13T15:12:45.424808Z"
        },
        "language": "python",
        "trusted": true,
        "id": "ee5510a5-ddab-4dfa-8ce7-de608f968e70"
      },
      "outputs": [],
      "source": [
        "from llama_index.core import SimpleDirectoryReader, VectorStoreIndex\n",
        "from llama_index.llms.openai import OpenAI\n",
        "import os\n",
        "from langchain_openai import ChatOpenAI"
      ]
    },
    {
      "cell_type": "code",
      "execution_count": 50,
      "id": "2effa602-5e70-4760-97f6-885019163fc0",
      "metadata": {
        "execution": {
          "iopub.execute_input": "2024-07-13T15:13:13.723298Z",
          "iopub.status.busy": "2024-07-13T15:13:13.722903Z",
          "iopub.status.idle": "2024-07-13T15:13:29.019650Z",
          "shell.execute_reply": "2024-07-13T15:13:29.019272Z",
          "shell.execute_reply.started": "2024-07-13T15:13:13.723282Z"
        },
        "language": "python",
        "trusted": true,
        "colab": {
          "base_uri": "https://localhost:8080/"
        },
        "id": "2effa602-5e70-4760-97f6-885019163fc0",
        "outputId": "79f839d5-66c9-403a-e19f-176cbe5e4444"
      },
      "outputs": [
        {
          "output_type": "execute_result",
          "data": {
            "text/plain": [
              "Document(id_='83da3ceb-ee24-4453-8024-4b4c24e15bdb', embedding=None, metadata={'page_label': '1', 'file_name': 'Chagouti El Houcine.pdf', 'file_path': '/content/Chagouti El Houcine.pdf', 'file_type': 'application/pdf', 'file_size': 102839, 'creation_date': '2024-07-29', 'last_modified_date': '2024-07-29'}, excluded_embed_metadata_keys=['file_name', 'file_type', 'file_size', 'creation_date', 'last_modified_date', 'last_accessed_date'], excluded_llm_metadata_keys=['file_name', 'file_type', 'file_size', 'creation_date', 'last_modified_date', 'last_accessed_date'], relationships={}, text=\"Skills: Projects: \\nLanguagesAbout me: \\nEducation: Internship Experience:  \\nChagouti El Houcine\\n● English Preparatory classes, MP at Lycée lissane Eddine Ibn Al-Khatib - Laayoune -\\n       Data Engineering degree at INPT \\n ● French +212636413791 | chagouti.el2002@gmail.com  |  Github   |   Linkedin \\nMachine Learning, Deep Learning, Natural Language Processing (NLP), Data Mining,TensorFlow,\\nPyTorch, Scikit-learn, Keras, NLTK, Hadoop, Spark, SQL, NoSQL, Big Data.LLM,Transformers. ● Arabic (Native) Data Science junior currently studying for a data engineering degree. I’m currently learning about machine\\nlearning and artificial intelligence. \\nTechnologies:Data  Mining,Machine Learning,Scikit-learn,Matplot lib,Classification,Pandas.\\nDuring this internship, our task was to create a predictive model capable of accurately categorizing individuals\\ninto diseased or non-diseased groups by analyzing their health attributes. By accurately identifying individuals\\nat risk of certain diseases, interventions can be initiated promptly, potentially improving patient outcomes and\\nreducing healthcare costs.\\n• Analyze and preprocess health data to prepare it for model training.\\n• Implement machine learning algorithms to build the predictive model.\\n• Optimize the model by fine-tuning parameters. \\n• Evaluate the model's performance and fine-tune parameters for better accuracy.\\nTechnologies:Web Scraping,BERT, Transformers,Data Mining, Matplotlib, Seaborn, NLP, Clustering,Streamlit.\\nAfter self-learning about data science and machine learning techniques, I decided to implement what I had\\nlearned into a project. The goal was to create an anime recommendation system.\\n• Collecting data from the web using BeautifullSoup.\\n• Implementing a recommendation system using content-based filtering and collaborative filtering.\\n• Implementing a recommendation system using NLP processing with transformers like BERT. \\n• Developing a Streamlit interface for user interaction.\\nDiabetes Assistant Chatbot project: \\nTechnologies: Natural Language Processing (NLP), Machine Learning, Flask,TensorFlow, Keras, MySQL.\\nAs part of a school project, we were asked to think of an idea for a healthcare themed project, we chose to\\ncreate an assistant chatbot specifically designed for diabetes patients. \\n• Developing a chatbot using NLP techniques with NLTK and Keras.\\n• Storing patient data using MySQL.\\n• Building the chatbot interface with Flask.\\nPneumonia Detection project:\\nTechnologies: Deep Learning, Keras, TensorFlow, CNN, Ensemble Learning, Transfer Learning,Streamlit.\\nAs part of a school project, our objective was to develop a deep learning model for pneumonia detection\\nfrom chest X-ray images.\\n• Creating a Model CNN (Convolutional Neural Network).\\n• Implementing ensemble methods (stacking, bagging, boosting) to enhance model performance.\\n• Employing pre-trained models to leverage learned features from large datasets.\\n• Creating a user interface with Streamlit for real-time pneumonia detection.1 Month intership with Mentorness:\\n: \\n•\\n• 2020 – 2022 :\\n2022 – Current :Anime Recommendation System project:\\n\", mimetype='text/plain', start_char_idx=None, end_char_idx=None, text_template='{metadata_str}\\n\\n{content}', metadata_template='{key}: {value}', metadata_seperator='\\n')"
            ]
          },
          "metadata": {},
          "execution_count": 50
        }
      ],
      "source": [
        "reader = SimpleDirectoryReader(input_files=[\"/content/Chagouti El Houcine.pdf\"])\n",
        "docs = reader.load_data()\n",
        "docs[0]"
      ]
    },
    {
      "cell_type": "markdown",
      "id": "22b6af2e-989b-48bd-8862-c24366b2a7fc",
      "metadata": {
        "language": "python",
        "id": "22b6af2e-989b-48bd-8862-c24366b2a7fc"
      },
      "source": [
        "### Setup the embedding model"
      ]
    },
    {
      "cell_type": "code",
      "execution_count": 11,
      "id": "078d97e0-4f92-44ec-af5f-c4b4795bfa64",
      "metadata": {
        "execution": {
          "iopub.execute_input": "2024-07-13T15:13:46.364111Z",
          "iopub.status.busy": "2024-07-13T15:13:46.363694Z",
          "iopub.status.idle": "2024-07-13T15:13:46.871065Z",
          "shell.execute_reply": "2024-07-13T15:13:46.870645Z",
          "shell.execute_reply.started": "2024-07-13T15:13:46.364096Z"
        },
        "language": "python",
        "trusted": true,
        "id": "078d97e0-4f92-44ec-af5f-c4b4795bfa64"
      },
      "outputs": [],
      "source": [
        "from llama_index.embeddings.huggingface import HuggingFaceEmbedding"
      ]
    },
    {
      "cell_type": "code",
      "execution_count": 12,
      "id": "bd6731f6-f58b-44a2-8b8a-bcb65aa58915",
      "metadata": {
        "execution": {
          "iopub.execute_input": "2024-07-13T15:13:56.746082Z",
          "iopub.status.busy": "2024-07-13T15:13:56.745453Z",
          "iopub.status.idle": "2024-07-13T15:13:57.129961Z",
          "shell.execute_reply": "2024-07-13T15:13:57.129550Z",
          "shell.execute_reply.started": "2024-07-13T15:13:56.746063Z"
        },
        "language": "python",
        "trusted": true,
        "id": "bd6731f6-f58b-44a2-8b8a-bcb65aa58915"
      },
      "outputs": [],
      "source": [
        "embed_model = HuggingFaceEmbedding(model_name=\"BAAI/bge-small-en-v1.5\")"
      ]
    },
    {
      "cell_type": "markdown",
      "id": "ea54122a-c910-48ad-8ae9-a36947c7846e",
      "metadata": {
        "language": "python",
        "id": "ea54122a-c910-48ad-8ae9-a36947c7846e"
      },
      "source": [
        "### Build Index"
      ]
    },
    {
      "cell_type": "code",
      "execution_count": 51,
      "id": "c523e4d8-9591-46d6-9c30-280082af53e0",
      "metadata": {
        "execution": {
          "iopub.execute_input": "2024-07-13T15:14:09.330586Z",
          "iopub.status.busy": "2024-07-13T15:14:09.330188Z",
          "iopub.status.idle": "2024-07-13T15:16:12.819804Z",
          "shell.execute_reply": "2024-07-13T15:16:12.819343Z",
          "shell.execute_reply.started": "2024-07-13T15:14:09.330570Z"
        },
        "language": "python",
        "trusted": true,
        "id": "c523e4d8-9591-46d6-9c30-280082af53e0"
      },
      "outputs": [],
      "source": [
        "index = VectorStoreIndex.from_documents(docs,\n",
        "                                        embed_model=embed_model,\n",
        "                                        )"
      ]
    },
    {
      "cell_type": "markdown",
      "id": "24a7ac1e-a023-409e-b23c-d4508a3d41bc",
      "metadata": {
        "language": "python",
        "id": "24a7ac1e-a023-409e-b23c-d4508a3d41bc"
      },
      "source": [
        "### Build the Query Engine"
      ]
    },
    {
      "cell_type": "code",
      "execution_count": 52,
      "id": "7ee3af6a-3b04-484c-9f08-e85bd3a941b9",
      "metadata": {
        "execution": {
          "iopub.execute_input": "2024-07-13T15:16:20.219977Z",
          "iopub.status.busy": "2024-07-13T15:16:20.219708Z",
          "iopub.status.idle": "2024-07-13T15:16:20.222845Z",
          "shell.execute_reply": "2024-07-13T15:16:20.222446Z",
          "shell.execute_reply.started": "2024-07-13T15:16:20.219961Z"
        },
        "language": "python",
        "trusted": true,
        "id": "7ee3af6a-3b04-484c-9f08-e85bd3a941b9"
      },
      "outputs": [],
      "source": [
        "query_engine = index.as_query_engine(similarity_top_k=5, llm=llm)"
      ]
    },
    {
      "cell_type": "markdown",
      "id": "c9b7c31d-f1e1-4db5-9038-72e2e64b4d6a",
      "metadata": {
        "language": "python",
        "id": "c9b7c31d-f1e1-4db5-9038-72e2e64b4d6a"
      },
      "source": [
        "### Instantiate the query engine as a Tool"
      ]
    },
    {
      "cell_type": "code",
      "execution_count": 53,
      "id": "fdc08424-83f7-4c67-acae-baf881cb9c7d",
      "metadata": {
        "execution": {
          "iopub.execute_input": "2024-07-13T15:18:42.615015Z",
          "iopub.status.busy": "2024-07-13T15:18:42.614643Z",
          "iopub.status.idle": "2024-07-13T15:18:43.046354Z",
          "shell.execute_reply": "2024-07-13T15:18:43.045916Z",
          "shell.execute_reply.started": "2024-07-13T15:18:42.614999Z"
        },
        "language": "python",
        "trusted": true,
        "id": "fdc08424-83f7-4c67-acae-baf881cb9c7d"
      },
      "outputs": [],
      "source": [
        "from crewai_tools import LlamaIndexTool\n",
        "\n",
        "# Use the existing LlamaIndexTool for document analysis\n",
        "document_analysis_tool = LlamaIndexTool.from_query_engine(\n",
        "    query_engine,\n",
        "    name=\"Document Analysis Tool\",\n",
        "    description=\"Use this tool to analyze documents and extract relevant information\",\n",
        ")\n"
      ]
    },
    {
      "cell_type": "code",
      "execution_count": 54,
      "id": "beb116b7-c3e5-4ea2-acaa-da8a03e26c1a",
      "metadata": {
        "execution": {
          "iopub.execute_input": "2024-07-13T15:18:54.122036Z",
          "iopub.status.busy": "2024-07-13T15:18:54.121091Z",
          "iopub.status.idle": "2024-07-13T15:18:54.125105Z",
          "shell.execute_reply": "2024-07-13T15:18:54.124758Z",
          "shell.execute_reply.started": "2024-07-13T15:18:54.122016Z"
        },
        "language": "python",
        "trusted": true,
        "colab": {
          "base_uri": "https://localhost:8080/"
        },
        "id": "beb116b7-c3e5-4ea2-acaa-da8a03e26c1a",
        "outputId": "6c1cc2f5-74ea-4bb7-c597-88129b6b8469"
      },
      "outputs": [
        {
          "output_type": "execute_result",
          "data": {
            "text/plain": [
              "{'title': 'QueryToolSchema',\n",
              " 'description': 'Schema for query tool.',\n",
              " 'type': 'object',\n",
              " 'properties': {'query': {'title': 'Query',\n",
              "   'description': 'Search query for the query tool.',\n",
              "   'type': 'string'}},\n",
              " 'required': ['query']}"
            ]
          },
          "metadata": {},
          "execution_count": 54
        }
      ],
      "source": [
        "query_tool.args_schema.schema()"
      ]
    },
    {
      "cell_type": "markdown",
      "id": "236c897d-7d26-4cef-82ba-e64b6d8f1a0d",
      "metadata": {
        "language": "python",
        "id": "236c897d-7d26-4cef-82ba-e64b6d8f1a0d"
      },
      "source": [
        "### Instantiate Researcher and Writer Agents"
      ]
    },
    {
      "cell_type": "code",
      "execution_count": 55,
      "id": "b2b08bfc-537d-4395-a9b8-12c76800d2a2",
      "metadata": {
        "execution": {
          "iopub.execute_input": "2024-07-13T15:19:09.731479Z",
          "iopub.status.busy": "2024-07-13T15:19:09.731233Z",
          "iopub.status.idle": "2024-07-13T15:19:11.189186Z",
          "shell.execute_reply": "2024-07-13T15:19:11.188726Z",
          "shell.execute_reply.started": "2024-07-13T15:19:09.731465Z"
        },
        "language": "python",
        "trusted": true,
        "id": "b2b08bfc-537d-4395-a9b8-12c76800d2a2"
      },
      "outputs": [],
      "source": [
        "import os\n",
        "from crewai import Agent, Task, Crew, Process"
      ]
    },
    {
      "cell_type": "code",
      "execution_count": 56,
      "id": "8f722f60-0ee1-42b6-9cac-d70771507a35",
      "metadata": {
        "execution": {
          "iopub.execute_input": "2024-07-13T15:20:35.738510Z",
          "iopub.status.busy": "2024-07-13T15:20:35.738080Z",
          "iopub.status.idle": "2024-07-13T15:20:35.744053Z",
          "shell.execute_reply": "2024-07-13T15:20:35.743618Z",
          "shell.execute_reply.started": "2024-07-13T15:20:35.738494Z"
        },
        "language": "python",
        "trusted": true,
        "id": "8f722f60-0ee1-42b6-9cac-d70771507a35"
      },
      "outputs": [],
      "source": [
        "# Define a new agent for document analysis\n",
        "document_analyst = Agent(\n",
        "    role=\"Document Analyst\",\n",
        "    goal=\"Analyze documents to give a summary\",\n",
        "    backstory=\"\"\"You are an expert in analyzing various documents and providing comprehensive reports.\"\"\",\n",
        "    llm=chat_llm,\n",
        "    verbose=True,\n",
        "    allow_delegation=False,\n",
        "    tools=[document_analysis_tool],\n",
        ")"
      ]
    },
    {
      "cell_type": "markdown",
      "id": "1844a679-fc85-4a33-a745-6d05c3ca3421",
      "metadata": {
        "language": "python",
        "id": "1844a679-fc85-4a33-a745-6d05c3ca3421"
      },
      "source": [
        "### Define respective tasks"
      ]
    },
    {
      "cell_type": "code",
      "execution_count": 57,
      "id": "f9d737a6-3561-4a2d-87e3-cb75364f127d",
      "metadata": {
        "execution": {
          "iopub.execute_input": "2024-07-13T15:25:14.419058Z",
          "iopub.status.busy": "2024-07-13T15:25:14.418508Z",
          "iopub.status.idle": "2024-07-13T15:25:14.422448Z",
          "shell.execute_reply": "2024-07-13T15:25:14.422069Z",
          "shell.execute_reply.started": "2024-07-13T15:25:14.419042Z"
        },
        "language": "python",
        "trusted": true,
        "id": "f9d737a6-3561-4a2d-87e3-cb75364f127d"
      },
      "outputs": [],
      "source": [
        "# Adapt the tasks for the new context\n",
        "task1 = Task(\n",
        "    description=\"\"\"give information about projects that chagouti el houcine has worked at as presented in the document 'Morocco-1-3.pdf'.\"\"\",\n",
        "    expected_output=\"Full analysis report in bullet points\",\n",
        "    agent=document_analyst,\n",
        ")\n",
        "\n",
        "task2 = Task(\n",
        "    description=\"\"\"Using the insights provided, develop an engaging blog post that highlights projects taht chagouti el houcine worked at. Your post should be informative yet accessible, catering to a casual audience. Make it sound cool, avoid complex words.\"\"\",\n",
        "    expected_output=\"Full blog post of at least 4 paragraphs\",\n",
        "    agent=writer,\n",
        ")"
      ]
    },
    {
      "cell_type": "markdown",
      "id": "27fbbee5-a050-4cf0-bb55-45e4ff1736e3",
      "metadata": {
        "language": "python",
        "id": "27fbbee5-a050-4cf0-bb55-45e4ff1736e3"
      },
      "source": [
        "### Instantiate the Crew with a sequential process"
      ]
    },
    {
      "cell_type": "code",
      "execution_count": 58,
      "id": "3e251504-9969-42ec-a2d5-a688292c1908",
      "metadata": {
        "execution": {
          "iopub.execute_input": "2024-07-13T15:25:29.978618Z",
          "iopub.status.busy": "2024-07-13T15:25:29.978054Z",
          "iopub.status.idle": "2024-07-13T15:25:29.984067Z",
          "shell.execute_reply": "2024-07-13T15:25:29.983698Z",
          "shell.execute_reply.started": "2024-07-13T15:25:29.978603Z"
        },
        "language": "python",
        "trusted": true,
        "colab": {
          "base_uri": "https://localhost:8080/"
        },
        "id": "3e251504-9969-42ec-a2d5-a688292c1908",
        "outputId": "40780752-7e80-4f3b-ee1b-103b639d1e94"
      },
      "outputs": [
        {
          "output_type": "stream",
          "name": "stderr",
          "text": [
            "WARNING:opentelemetry.trace:Overriding of current TracerProvider is not allowed\n"
          ]
        }
      ],
      "source": [
        "crew = Crew(\n",
        "    agents=[researcher, writer],\n",
        "    tasks=[task1, task2],\n",
        "    verbose=2,  # You can set it to 1 or 2 to different logging levels\n",
        ")"
      ]
    },
    {
      "cell_type": "markdown",
      "id": "477f67b2-92e6-4220-892c-2df5a856a7ee",
      "metadata": {
        "language": "python",
        "id": "477f67b2-92e6-4220-892c-2df5a856a7ee"
      },
      "source": [
        "### Initiate the agent workflow: Let the magic begin!"
      ]
    },
    {
      "cell_type": "code",
      "execution_count": 59,
      "id": "5e852d0c-32da-44dd-8429-44331a2a6719",
      "metadata": {
        "execution": {
          "iopub.execute_input": "2024-07-13T15:25:42.636581Z",
          "iopub.status.busy": "2024-07-13T15:25:42.636100Z",
          "iopub.status.idle": "2024-07-13T15:29:25.574205Z",
          "shell.execute_reply": "2024-07-13T15:29:25.573771Z",
          "shell.execute_reply.started": "2024-07-13T15:25:42.636565Z"
        },
        "language": "python",
        "trusted": true,
        "colab": {
          "base_uri": "https://localhost:8080/"
        },
        "id": "5e852d0c-32da-44dd-8429-44331a2a6719",
        "outputId": "9f48ef50-db14-4285-84b2-507c43b1cb19"
      },
      "outputs": [
        {
          "output_type": "stream",
          "name": "stdout",
          "text": [
            "\u001b[1m\u001b[95m [2024-07-29 18:46:29][DEBUG]: == Working Agent: Document Analyst\u001b[00m\n",
            "\u001b[1m\u001b[95m [2024-07-29 18:46:29][INFO]: == Starting Task: give information about projects that chagouti el houcine has worked at as presented in the document 'Morocco-1-3.pdf'.\u001b[00m\n",
            "\n",
            "\n",
            "\u001b[1m> Entering new CrewAgentExecutor chain...\u001b[0m\n",
            "\u001b[32;1m\u001b[1;3mThought: I need to analyze the document 'Morocco-1-3.pdf' to extract information about projects that Chagouti El Houcine has worked on.\n",
            "\n",
            "Action: Document Analysis Tool\n",
            "Action Input: {\"query\": \"Chagouti El Houcine\"}\u001b[0m\u001b[95m \n",
            "\n",
            "Chagouti El Houcine is a data science junior currently studying for a data engineering degree, proficient in languages such as French and Arabic, and skilled in various technologies including Machine Learning, Deep Learning, Natural Language Processing, and more.\n",
            "\u001b[00m\n",
            "\u001b[32;1m\u001b[1;3mThought: I need to extract more information about the projects Chagouti El Houcine has worked on.\n",
            "\n",
            "Action: Document Analysis Tool\n",
            "Action Input: {\"query\": \"Chagouti El Houcine projects\"}\u001b[0m\u001b[95m \n",
            "\n",
            "The projects of Chagouti El Houcine include a predictive model for disease diagnosis, an anime recommendation system, a Diabetes Assistant Chatbot, and a Pneumonia Detection project.\n",
            "\u001b[00m\n",
            "\u001b[32;1m\u001b[1;3mThought: I now know the final answer\n",
            "\n",
            "Final Answer:\n",
            "Here is the full analysis report in bullet points:\n",
            "\n",
            "• Chagouti El Houcine is a data science junior currently studying for a data engineering degree.\n",
            "• He is proficient in languages such as French and Arabic.\n",
            "• He is skilled in various technologies including Machine Learning, Deep Learning, Natural Language Processing, and more.\n",
            "• The projects of Chagouti El Houcine include:\n",
            "  • A predictive model for disease diagnosis\n",
            "  • An anime recommendation system\n",
            "  • A Diabetes Assistant Chatbot\n",
            "  • A Pneumonia Detection project\u001b[0m\n",
            "\n",
            "\u001b[1m> Finished chain.\u001b[0m\n",
            "\u001b[1m\u001b[92m [2024-07-29 18:46:35][DEBUG]: == [Document Analyst] Task output: Here is the full analysis report in bullet points:\n",
            "\n",
            "• Chagouti El Houcine is a data science junior currently studying for a data engineering degree.\n",
            "• He is proficient in languages such as French and Arabic.\n",
            "• He is skilled in various technologies including Machine Learning, Deep Learning, Natural Language Processing, and more.\n",
            "• The projects of Chagouti El Houcine include:\n",
            "  • A predictive model for disease diagnosis\n",
            "  • An anime recommendation system\n",
            "  • A Diabetes Assistant Chatbot\n",
            "  • A Pneumonia Detection project\n",
            "\n",
            "\u001b[00m\n",
            "\u001b[1m\u001b[95m [2024-07-29 18:46:35][DEBUG]: == Working Agent: Tech Content Strategist\u001b[00m\n",
            "\u001b[1m\u001b[95m [2024-07-29 18:46:35][INFO]: == Starting Task: Using the insights provided, develop an engaging blog post that highlights projects taht chagouti el houcine worked at. Your post should be informative yet accessible, catering to a casual audience. Make it sound cool, avoid complex words.\u001b[00m\n",
            "\n",
            "\n",
            "\u001b[1m> Entering new CrewAgentExecutor chain...\u001b[0m\n",
            "\u001b[32;1m\u001b[1;3m\u001b[0m\u001b[32;1m\u001b[1;3mThought: I now can give a great answer\n",
            "\n",
            "Final Answer:\n",
            "\n",
            "**Unleashing the Power of Data Science: Chagouti El Houcine's Innovative Projects**\n",
            "\n",
            "In the world of data science, innovation knows no bounds. Meet Chagouti El Houcine, a talented junior data scientist who's making waves with his impressive projects. Currently pursuing a degree in data engineering, Chagouti is proficient in multiple languages, including French and Arabic, and has a knack for leveraging cutting-edge technologies to drive meaningful change.\n",
            "\n",
            "One of the most exciting aspects of Chagouti's work is his ability to apply machine learning, deep learning, and natural language processing to real-world problems. Take, for instance, his predictive model for disease diagnosis. This groundbreaking project has the potential to revolutionize healthcare by enabling doctors to make accurate diagnoses faster and more efficiently. By harnessing the power of data, Chagouti's model can help save countless lives and improve patient outcomes.\n",
            "\n",
            "But that's not all. Chagouti's portfolio is filled with innovative projects that showcase his creativity and technical expertise. His anime recommendation system, for example, uses machine learning algorithms to suggest personalized anime shows to users based on their viewing history and preferences. This project demonstrates Chagouti's ability to combine data science with popular culture, making complex technology accessible to a wider audience.\n",
            "\n",
            "Another notable project is Chagouti's Diabetes Assistant Chatbot, which uses natural language processing to provide personalized support and guidance to individuals living with diabetes. This chatbot has the potential to improve health outcomes and enhance the quality of life for millions of people worldwide. Last but not least, Chagouti's Pneumonia Detection project uses machine learning to detect pneumonia from chest X-rays, highlighting his commitment to using data science for social good. With projects like these, it's clear that Chagouti El Houcine is a rising star in the world of data science, and we can't wait to see what he does next.\u001b[0m\n",
            "\n",
            "\u001b[1m> Finished chain.\u001b[0m\n",
            "\u001b[1m\u001b[92m [2024-07-29 18:46:37][DEBUG]: == [Tech Content Strategist] Task output: **Unleashing the Power of Data Science: Chagouti El Houcine's Innovative Projects**\n",
            "\n",
            "In the world of data science, innovation knows no bounds. Meet Chagouti El Houcine, a talented junior data scientist who's making waves with his impressive projects. Currently pursuing a degree in data engineering, Chagouti is proficient in multiple languages, including French and Arabic, and has a knack for leveraging cutting-edge technologies to drive meaningful change.\n",
            "\n",
            "One of the most exciting aspects of Chagouti's work is his ability to apply machine learning, deep learning, and natural language processing to real-world problems. Take, for instance, his predictive model for disease diagnosis. This groundbreaking project has the potential to revolutionize healthcare by enabling doctors to make accurate diagnoses faster and more efficiently. By harnessing the power of data, Chagouti's model can help save countless lives and improve patient outcomes.\n",
            "\n",
            "But that's not all. Chagouti's portfolio is filled with innovative projects that showcase his creativity and technical expertise. His anime recommendation system, for example, uses machine learning algorithms to suggest personalized anime shows to users based on their viewing history and preferences. This project demonstrates Chagouti's ability to combine data science with popular culture, making complex technology accessible to a wider audience.\n",
            "\n",
            "Another notable project is Chagouti's Diabetes Assistant Chatbot, which uses natural language processing to provide personalized support and guidance to individuals living with diabetes. This chatbot has the potential to improve health outcomes and enhance the quality of life for millions of people worldwide. Last but not least, Chagouti's Pneumonia Detection project uses machine learning to detect pneumonia from chest X-rays, highlighting his commitment to using data science for social good. With projects like these, it's clear that Chagouti El Houcine is a rising star in the world of data science, and we can't wait to see what he does next.\n",
            "\n",
            "\u001b[00m\n",
            "######################\n",
            "**Unleashing the Power of Data Science: Chagouti El Houcine's Innovative Projects**\n",
            "\n",
            "In the world of data science, innovation knows no bounds. Meet Chagouti El Houcine, a talented junior data scientist who's making waves with his impressive projects. Currently pursuing a degree in data engineering, Chagouti is proficient in multiple languages, including French and Arabic, and has a knack for leveraging cutting-edge technologies to drive meaningful change.\n",
            "\n",
            "One of the most exciting aspects of Chagouti's work is his ability to apply machine learning, deep learning, and natural language processing to real-world problems. Take, for instance, his predictive model for disease diagnosis. This groundbreaking project has the potential to revolutionize healthcare by enabling doctors to make accurate diagnoses faster and more efficiently. By harnessing the power of data, Chagouti's model can help save countless lives and improve patient outcomes.\n",
            "\n",
            "But that's not all. Chagouti's portfolio is filled with innovative projects that showcase his creativity and technical expertise. His anime recommendation system, for example, uses machine learning algorithms to suggest personalized anime shows to users based on their viewing history and preferences. This project demonstrates Chagouti's ability to combine data science with popular culture, making complex technology accessible to a wider audience.\n",
            "\n",
            "Another notable project is Chagouti's Diabetes Assistant Chatbot, which uses natural language processing to provide personalized support and guidance to individuals living with diabetes. This chatbot has the potential to improve health outcomes and enhance the quality of life for millions of people worldwide. Last but not least, Chagouti's Pneumonia Detection project uses machine learning to detect pneumonia from chest X-rays, highlighting his commitment to using data science for social good. With projects like these, it's clear that Chagouti El Houcine is a rising star in the world of data science, and we can't wait to see what he does next.\n"
          ]
        }
      ],
      "source": [
        "result = crew.kickoff()\n",
        "\n",
        "print(\"######################\")\n",
        "print(result)"
      ]
    },
    {
      "cell_type": "code",
      "execution_count": null,
      "id": "323015f7-16e6-43d8-97dc-24dd43bb19e9",
      "metadata": {
        "language": "python",
        "trusted": true,
        "id": "323015f7-16e6-43d8-97dc-24dd43bb19e9"
      },
      "outputs": [],
      "source": []
    }
  ],
  "metadata": {
    "jupyterlab": {
      "notebooks": {
        "version_major": 6,
        "version_minor": 4
      }
    },
    "kernelspec": {
      "display_name": "Python 3 (ipykernel)",
      "language": "python",
      "name": "python3"
    },
    "language_info": {
      "codemirror_mode": {
        "name": "ipython",
        "version": 3
      },
      "file_extension": ".py",
      "mimetype": "text/x-python",
      "name": "python",
      "nbconvert_exporter": "python",
      "pygments_lexer": "ipython3",
      "version": "3.9.0"
    },
    "singlestore_cell_default_language": "python",
    "singlestore_connection": {
      "connectionID": "a22b6f8b-b11b-4979-98da-98513e9876e6",
      "defaultDatabase": ""
    },
    "singlestore_row_limit": 300,
    "colab": {
      "provenance": []
    }
  },
  "nbformat": 4,
  "nbformat_minor": 5
}